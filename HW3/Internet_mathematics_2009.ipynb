{
 "cells": [
  {
   "cell_type": "code",
   "execution_count": 1,
   "id": "ebb07984",
   "metadata": {},
   "outputs": [],
   "source": [
    "from catboost import CatBoostRanker, Pool, MetricVisualizer\n",
    "from copy import deepcopy\n",
    "import numpy as np\n",
    "import os\n",
    "import pandas as pd\n",
    "from tqdm import tqdm\n",
    "from collections import Counter\n",
    "import json\n",
    "\n",
    "#pd.set_option('display.max_columns', 250)"
   ]
  },
  {
   "cell_type": "markdown",
   "id": "81a2c7b0",
   "metadata": {},
   "source": [
    "### Dataset"
   ]
  },
  {
   "cell_type": "code",
   "execution_count": 2,
   "id": "d8ca4a06",
   "metadata": {},
   "outputs": [],
   "source": [
    "with open('imat2009_new_split/imat2009_train_new.txt') as f:\n",
    "    train_data = f.readlines()\n",
    "    \n",
    "with open('imat2009_new_split/imat2009_test_new.txt') as f:\n",
    "    test_data = f.readlines()\n"
   ]
  },
  {
   "cell_type": "code",
   "execution_count": 3,
   "id": "5529b94b",
   "metadata": {},
   "outputs": [
    {
     "name": "stdout",
     "output_type": "stream",
     "text": [
      "generating train dataframe...\n"
     ]
    },
    {
     "name": "stderr",
     "output_type": "stream",
     "text": [
      "100%|██████████████████████████████| 77714/77714 [00:03<00:00, 22492.96it/s]    \n"
     ]
    },
    {
     "name": "stdout",
     "output_type": "stream",
     "text": [
      "generating test dataframe...\n"
     ]
    },
    {
     "name": "stderr",
     "output_type": "stream",
     "text": [
      "100%|██████████████████████████████| 19576/19576 [00:00<00:00, 23260.24it/s]    \n"
     ]
    },
    {
     "data": {
      "text/html": [
       "<div>\n",
       "<style scoped>\n",
       "    .dataframe tbody tr th:only-of-type {\n",
       "        vertical-align: middle;\n",
       "    }\n",
       "\n",
       "    .dataframe tbody tr th {\n",
       "        vertical-align: top;\n",
       "    }\n",
       "\n",
       "    .dataframe thead th {\n",
       "        text-align: right;\n",
       "    }\n",
       "</style>\n",
       "<table border=\"1\" class=\"dataframe\">\n",
       "  <thead>\n",
       "    <tr style=\"text-align: right;\">\n",
       "      <th></th>\n",
       "      <th>0</th>\n",
       "      <th>1</th>\n",
       "      <th>2</th>\n",
       "      <th>3</th>\n",
       "      <th>4</th>\n",
       "      <th>5</th>\n",
       "      <th>6</th>\n",
       "      <th>7</th>\n",
       "      <th>8</th>\n",
       "      <th>9</th>\n",
       "      <th>...</th>\n",
       "      <th>237</th>\n",
       "      <th>238</th>\n",
       "      <th>239</th>\n",
       "      <th>240</th>\n",
       "      <th>241</th>\n",
       "      <th>242</th>\n",
       "      <th>243</th>\n",
       "      <th>244</th>\n",
       "      <th>245</th>\n",
       "      <th>246</th>\n",
       "    </tr>\n",
       "  </thead>\n",
       "  <tbody>\n",
       "    <tr>\n",
       "      <th>0</th>\n",
       "      <td>1.0</td>\n",
       "      <td>0.000023</td>\n",
       "      <td>0.0</td>\n",
       "      <td>0.000000</td>\n",
       "      <td>0.000000</td>\n",
       "      <td>0.0</td>\n",
       "      <td>0.0</td>\n",
       "      <td>0.704953</td>\n",
       "      <td>0.550315</td>\n",
       "      <td>0.032294</td>\n",
       "      <td>...</td>\n",
       "      <td>0.0</td>\n",
       "      <td>0.0</td>\n",
       "      <td>0.0</td>\n",
       "      <td>0.000000</td>\n",
       "      <td>0.0</td>\n",
       "      <td>0.0</td>\n",
       "      <td>0.000023</td>\n",
       "      <td>1.000000</td>\n",
       "      <td>0.000023</td>\n",
       "      <td>3382</td>\n",
       "    </tr>\n",
       "    <tr>\n",
       "      <th>1</th>\n",
       "      <td>1.0</td>\n",
       "      <td>0.000000</td>\n",
       "      <td>0.0</td>\n",
       "      <td>0.000000</td>\n",
       "      <td>0.000000</td>\n",
       "      <td>0.0</td>\n",
       "      <td>0.0</td>\n",
       "      <td>0.273423</td>\n",
       "      <td>0.000000</td>\n",
       "      <td>0.000000</td>\n",
       "      <td>...</td>\n",
       "      <td>0.0</td>\n",
       "      <td>0.0</td>\n",
       "      <td>0.0</td>\n",
       "      <td>0.000000</td>\n",
       "      <td>0.0</td>\n",
       "      <td>0.0</td>\n",
       "      <td>0.000000</td>\n",
       "      <td>0.862745</td>\n",
       "      <td>0.000000</td>\n",
       "      <td>3382</td>\n",
       "    </tr>\n",
       "    <tr>\n",
       "      <th>2</th>\n",
       "      <td>1.0</td>\n",
       "      <td>0.000000</td>\n",
       "      <td>0.0</td>\n",
       "      <td>0.006800</td>\n",
       "      <td>0.051546</td>\n",
       "      <td>0.0</td>\n",
       "      <td>0.0</td>\n",
       "      <td>0.671346</td>\n",
       "      <td>0.000000</td>\n",
       "      <td>0.000000</td>\n",
       "      <td>...</td>\n",
       "      <td>0.0</td>\n",
       "      <td>0.0</td>\n",
       "      <td>0.0</td>\n",
       "      <td>0.154346</td>\n",
       "      <td>0.0</td>\n",
       "      <td>0.0</td>\n",
       "      <td>0.000000</td>\n",
       "      <td>0.811765</td>\n",
       "      <td>0.000000</td>\n",
       "      <td>3382</td>\n",
       "    </tr>\n",
       "    <tr>\n",
       "      <th>3</th>\n",
       "      <td>1.0</td>\n",
       "      <td>0.000000</td>\n",
       "      <td>0.0</td>\n",
       "      <td>0.000862</td>\n",
       "      <td>0.030928</td>\n",
       "      <td>0.0</td>\n",
       "      <td>0.0</td>\n",
       "      <td>0.573946</td>\n",
       "      <td>0.000000</td>\n",
       "      <td>0.000000</td>\n",
       "      <td>...</td>\n",
       "      <td>0.0</td>\n",
       "      <td>0.0</td>\n",
       "      <td>0.0</td>\n",
       "      <td>0.039509</td>\n",
       "      <td>0.0</td>\n",
       "      <td>0.0</td>\n",
       "      <td>0.000000</td>\n",
       "      <td>1.000000</td>\n",
       "      <td>0.000000</td>\n",
       "      <td>3382</td>\n",
       "    </tr>\n",
       "    <tr>\n",
       "      <th>4</th>\n",
       "      <td>1.0</td>\n",
       "      <td>0.000000</td>\n",
       "      <td>0.0</td>\n",
       "      <td>0.000000</td>\n",
       "      <td>0.000000</td>\n",
       "      <td>0.0</td>\n",
       "      <td>0.0</td>\n",
       "      <td>0.261436</td>\n",
       "      <td>0.000000</td>\n",
       "      <td>0.000000</td>\n",
       "      <td>...</td>\n",
       "      <td>0.0</td>\n",
       "      <td>0.0</td>\n",
       "      <td>0.0</td>\n",
       "      <td>0.000000</td>\n",
       "      <td>0.0</td>\n",
       "      <td>0.0</td>\n",
       "      <td>0.000000</td>\n",
       "      <td>0.882353</td>\n",
       "      <td>0.000000</td>\n",
       "      <td>3382</td>\n",
       "    </tr>\n",
       "  </tbody>\n",
       "</table>\n",
       "<p>5 rows × 247 columns</p>\n",
       "</div>"
      ],
      "text/plain": [
       "   0         1    2         3         4    5    6         7         8    \\\n",
       "0  1.0  0.000023  0.0  0.000000  0.000000  0.0  0.0  0.704953  0.550315   \n",
       "1  1.0  0.000000  0.0  0.000000  0.000000  0.0  0.0  0.273423  0.000000   \n",
       "2  1.0  0.000000  0.0  0.006800  0.051546  0.0  0.0  0.671346  0.000000   \n",
       "3  1.0  0.000000  0.0  0.000862  0.030928  0.0  0.0  0.573946  0.000000   \n",
       "4  1.0  0.000000  0.0  0.000000  0.000000  0.0  0.0  0.261436  0.000000   \n",
       "\n",
       "        9    ...  237  238  239       240  241  242       243       244  \\\n",
       "0  0.032294  ...  0.0  0.0  0.0  0.000000  0.0  0.0  0.000023  1.000000   \n",
       "1  0.000000  ...  0.0  0.0  0.0  0.000000  0.0  0.0  0.000000  0.862745   \n",
       "2  0.000000  ...  0.0  0.0  0.0  0.154346  0.0  0.0  0.000000  0.811765   \n",
       "3  0.000000  ...  0.0  0.0  0.0  0.039509  0.0  0.0  0.000000  1.000000   \n",
       "4  0.000000  ...  0.0  0.0  0.0  0.000000  0.0  0.0  0.000000  0.882353   \n",
       "\n",
       "        245   246  \n",
       "0  0.000023  3382  \n",
       "1  0.000000  3382  \n",
       "2  0.000000  3382  \n",
       "3  0.000000  3382  \n",
       "4  0.000000  3382  \n",
       "\n",
       "[5 rows x 247 columns]"
      ]
     },
     "execution_count": 3,
     "metadata": {},
     "output_type": "execute_result"
    }
   ],
   "source": [
    "def extract_vals(line):\n",
    "    n_features = 245\n",
    "    \n",
    "    items = line[:-1].replace(' #', '').split(' ')\n",
    "        \n",
    "    row_dict = {}\n",
    "    row_dict[0] = float(items[0])\n",
    "\n",
    "    for i in range(1, n_features+1):\n",
    "        row_dict[i] = 0\n",
    "        \n",
    "    for item in items[1:-1]:\n",
    "        key, val = item.split(':')\n",
    "        row_dict[int(key)] = float(val)\n",
    "\n",
    "    row_dict[n_features+1] = int(items[-1])\n",
    "\n",
    "    return row_dict\n",
    "\n",
    "\n",
    "print('generating train dataframe...')\n",
    "train_df = []\n",
    "for line in tqdm(train_data, total=len(train_data), bar_format='{l_bar}{bar:30}{r_bar}{bar:-10b}'):\n",
    "    train_df.append(extract_vals(line))\n",
    "train_df = pd.DataFrame(train_df)\n",
    "\n",
    "print('generating test dataframe...')\n",
    "test_df = []\n",
    "for line in tqdm(test_data, total=len(test_data), bar_format='{l_bar}{bar:30}{r_bar}{bar:-10b}'):\n",
    "    test_df.append(extract_vals(line))\n",
    "test_df = pd.DataFrame(test_df)\n",
    "\n",
    "train_df.head(5)\n"
   ]
  },
  {
   "cell_type": "code",
   "execution_count": 4,
   "id": "9ec3548d",
   "metadata": {},
   "outputs": [],
   "source": [
    "# We drop the relevance (1st column) and queryid (last column)\n",
    "X_train = train_df.drop([0, train_df.shape[1]-1], axis=1).values\n",
    "y_train = train_df[0].values\n",
    "queries_train = train_df[train_df.shape[1]-1].values\n",
    "\n",
    "X_test = test_df.drop([0, test_df.shape[1]-1], axis=1).values\n",
    "y_test = test_df[0].values\n",
    "queries_test = test_df[test_df.shape[1]-1].values\n"
   ]
  },
  {
   "cell_type": "markdown",
   "id": "2d14a9b6",
   "metadata": {},
   "source": [
    "### Dataset analysis"
   ]
  },
  {
   "cell_type": "code",
   "execution_count": 5,
   "id": "8c8efc46",
   "metadata": {},
   "outputs": [
    {
     "name": "stdout",
     "output_type": "stream",
     "text": [
      "Number of documents (train): 77714\n",
      "Number of documents (test): 19576\n",
      "Number of train queries: 7300\n",
      "Number of test queries: 1824\n",
      "Number of features: 245\n"
     ]
    }
   ],
   "source": [
    "train_num_documents = X_train.shape[0]\n",
    "print('Number of documents (train):', train_num_documents)\n",
    "\n",
    "test_num_documents = X_test.shape[0]\n",
    "print('Number of documents (test):', test_num_documents)\n",
    "\n",
    "# print('Distribution of relevance scores:')\n",
    "# Counter(y_train).items()\n",
    "\n",
    "# Normalization of relevance scores\n",
    "max_relevance = np.max(y_train)\n",
    "y_train /= max_relevance\n",
    "y_test /= max_relevance\n",
    "\n",
    "train_num_queries = np.unique(queries_train).shape[0]\n",
    "print('Number of train queries:', train_num_queries)\n",
    "\n",
    "test_num_queries = np.unique(queries_test).shape[0]\n",
    "print('Number of test queries:', test_num_queries)\n",
    "\n",
    "num_features = X_train.shape[1]\n",
    "print('Number of features:', num_features)\n"
   ]
  },
  {
   "cell_type": "markdown",
   "id": "3ac5bc53",
   "metadata": {},
   "source": [
    "### Creation of CatBoost pools"
   ]
  },
  {
   "cell_type": "code",
   "execution_count": 6,
   "id": "638c276a",
   "metadata": {},
   "outputs": [],
   "source": [
    "train = Pool(\n",
    "    data=X_train,\n",
    "    label=y_train,\n",
    "    group_id=queries_train\n",
    ")\n",
    "\n",
    "test = Pool(\n",
    "    data=X_test,\n",
    "    label=y_test,\n",
    "    group_id=queries_test\n",
    ")\n"
   ]
  },
  {
   "cell_type": "markdown",
   "id": "89328d90",
   "metadata": {},
   "source": [
    "### Reducing problem to machine learning task"
   ]
  },
  {
   "cell_type": "code",
   "execution_count": 7,
   "id": "652477e2",
   "metadata": {},
   "outputs": [],
   "source": [
    "default_parameters = {\n",
    "    'iterations': 2000,\n",
    "    'custom_metric': ['NDCG'],\n",
    "    'verbose': False,\n",
    "    'random_seed': 0,\n",
    "}\n",
    "\n",
    "parameters = {}\n",
    "\n",
    "def fit_model(loss_function, additional_params=None, train_pool=train, test_pool=test):\n",
    "    parameters = deepcopy(default_parameters)\n",
    "    parameters['loss_function'] = loss_function\n",
    "    parameters['train_dir'] = loss_function\n",
    "    \n",
    "    if additional_params is not None:\n",
    "        parameters.update(additional_params)\n",
    "        \n",
    "    model = CatBoostRanker(**parameters)\n",
    "    model.fit(train_pool, eval_set=test_pool, plot=True)\n",
    "    \n",
    "    return model\n"
   ]
  },
  {
   "cell_type": "markdown",
   "id": "790f0d8d",
   "metadata": {},
   "source": [
    "### 1st variant: PairLogit"
   ]
  },
  {
   "cell_type": "code",
   "execution_count": 8,
   "id": "4b6ea1a7",
   "metadata": {},
   "outputs": [
    {
     "data": {
      "application/vnd.jupyter.widget-view+json": {
       "model_id": "dc3b553d79a04e17b0656aa756ef0213",
       "version_major": 2,
       "version_minor": 0
      },
      "text/plain": [
       "MetricVisualizer(layout=Layout(align_self='stretch', height='500px'))"
      ]
     },
     "metadata": {},
     "output_type": "display_data"
    }
   ],
   "source": [
    "pair_logit_model = fit_model('PairLogit')"
   ]
  },
  {
   "cell_type": "code",
   "execution_count": 9,
   "id": "5b86769b",
   "metadata": {},
   "outputs": [
    {
     "name": "stdout",
     "output_type": "stream",
     "text": [
      "best iteration 1399\n",
      "{\n",
      "  \"learn\": {\n",
      "    \"PairLogit\": 0.31398503926498245\n",
      "  },\n",
      "  \"validation\": {\n",
      "    \"NDCG:type=Base\": 0.8943728100892232,\n",
      "    \"PairLogit\": 0.5564476911949912\n",
      "  }\n",
      "}\n"
     ]
    }
   ],
   "source": [
    "print('best iteration', pair_logit_model.best_iteration_)\n",
    "print(json.dumps(pair_logit_model.best_score_, indent=2))\n"
   ]
  },
  {
   "cell_type": "code",
   "execution_count": 10,
   "id": "4051d076",
   "metadata": {
    "scrolled": true
   },
   "outputs": [
    {
     "data": {
      "text/plain": [
       "{'nan_mode': 'Min',\n",
       " 'eval_metric': 'PairLogit',\n",
       " 'iterations': 2000,\n",
       " 'sampling_frequency': 'PerTree',\n",
       " 'leaf_estimation_method': 'Newton',\n",
       " 'grow_policy': 'SymmetricTree',\n",
       " 'penalties_coefficient': 1,\n",
       " 'boosting_type': 'Plain',\n",
       " 'model_shrink_mode': 'Constant',\n",
       " 'feature_border_type': 'GreedyLogSum',\n",
       " 'bayesian_matrix_reg': 0.10000000149011612,\n",
       " 'eval_fraction': 0,\n",
       " 'force_unit_auto_pair_weights': False,\n",
       " 'l2_leaf_reg': 3,\n",
       " 'random_strength': 1,\n",
       " 'rsm': 1,\n",
       " 'boost_from_average': False,\n",
       " 'model_size_reg': 0.5,\n",
       " 'pool_metainfo_options': {'tags': {}},\n",
       " 'subsample': 0.800000011920929,\n",
       " 'use_best_model': True,\n",
       " 'random_seed': 0,\n",
       " 'depth': 6,\n",
       " 'posterior_sampling': False,\n",
       " 'border_count': 254,\n",
       " 'classes_count': 0,\n",
       " 'auto_class_weights': 'None',\n",
       " 'sparse_features_conflict_fraction': 0,\n",
       " 'custom_metric': ['NDCG'],\n",
       " 'leaf_estimation_backtracking': 'AnyImprovement',\n",
       " 'best_model_min_trees': 1,\n",
       " 'model_shrink_rate': 0,\n",
       " 'min_data_in_leaf': 1,\n",
       " 'loss_function': 'PairLogit',\n",
       " 'learning_rate': 0.029999999329447743,\n",
       " 'score_function': 'Cosine',\n",
       " 'task_type': 'CPU',\n",
       " 'leaf_estimation_iterations': 10,\n",
       " 'bootstrap_type': 'MVS',\n",
       " 'max_leaves': 64}"
      ]
     },
     "execution_count": 10,
     "metadata": {},
     "output_type": "execute_result"
    }
   ],
   "source": [
    "pair_logit_model.get_all_params()"
   ]
  },
  {
   "cell_type": "markdown",
   "id": "d4fc8841",
   "metadata": {},
   "source": [
    "### 2nd variant: YetiRank"
   ]
  },
  {
   "cell_type": "code",
   "execution_count": 11,
   "id": "b18063ef",
   "metadata": {},
   "outputs": [
    {
     "data": {
      "application/vnd.jupyter.widget-view+json": {
       "model_id": "f4da69f733e742e5adc36f2b22d645d7",
       "version_major": 2,
       "version_minor": 0
      },
      "text/plain": [
       "MetricVisualizer(layout=Layout(align_self='stretch', height='500px'))"
      ]
     },
     "metadata": {},
     "output_type": "display_data"
    }
   ],
   "source": [
    "yeti_rank_model = fit_model('YetiRank')"
   ]
  }
 ],
 "metadata": {
  "kernelspec": {
   "display_name": "Python 3 (ipykernel)",
   "language": "python",
   "name": "python3"
  },
  "language_info": {
   "codemirror_mode": {
    "name": "ipython",
    "version": 3
   },
   "file_extension": ".py",
   "mimetype": "text/x-python",
   "name": "python",
   "nbconvert_exporter": "python",
   "pygments_lexer": "ipython3",
   "version": "3.10.6"
  }
 },
 "nbformat": 4,
 "nbformat_minor": 5
}
