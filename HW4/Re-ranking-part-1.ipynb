{
 "cells": [
  {
   "cell_type": "code",
   "execution_count": 1,
   "id": "b33adf44",
   "metadata": {},
   "outputs": [
    {
     "name": "stderr",
     "output_type": "stream",
     "text": [
      "2023-03-21 03:10:28.260215: I tensorflow/core/platform/cpu_feature_guard.cc:193] This TensorFlow binary is optimized with oneAPI Deep Neural Network Library (oneDNN) to use the following CPU instructions in performance-critical operations:  AVX2 AVX512F AVX512_VNNI FMA\n",
      "To enable them in other operations, rebuild TensorFlow with the appropriate compiler flags.\n",
      "2023-03-21 03:10:28.580739: I tensorflow/core/util/port.cc:104] oneDNN custom operations are on. You may see slightly different numerical results due to floating-point round-off errors from different computation orders. To turn them off, set the environment variable `TF_ENABLE_ONEDNN_OPTS=0`.\n",
      "2023-03-21 03:10:29.663083: W tensorflow/compiler/xla/stream_executor/platform/default/dso_loader.cc:64] Could not load dynamic library 'libnvinfer.so.7'; dlerror: libnvinfer.so.7: cannot open shared object file: No such file or directory\n",
      "2023-03-21 03:10:29.663132: W tensorflow/compiler/xla/stream_executor/platform/default/dso_loader.cc:64] Could not load dynamic library 'libnvinfer_plugin.so.7'; dlerror: libnvinfer_plugin.so.7: cannot open shared object file: No such file or directory\n",
      "2023-03-21 03:10:29.663136: W tensorflow/compiler/tf2tensorrt/utils/py_utils.cc:38] TF-TRT Warning: Cannot dlopen some TensorRT libraries. If you would like to use Nvidia GPU with TensorRT, please make sure the missing libraries mentioned above are installed properly.\n"
     ]
    }
   ],
   "source": [
    "from elasticsearch import Elasticsearch\n",
    "from elasticsearch.helpers import bulk, parallel_bulk\n",
    "from sentence_transformers import SentenceTransformer, util\n",
    "import ir_measures\n",
    "from ir_measures import *\n",
    "import pandas as pd\n",
    "import json\n",
    "from tqdm import tqdm\n",
    "from time import time\n"
   ]
  },
  {
   "cell_type": "markdown",
   "id": "2d71160b",
   "metadata": {},
   "source": [
    "### Connection"
   ]
  },
  {
   "cell_type": "code",
   "execution_count": 2,
   "id": "8cb16a91",
   "metadata": {},
   "outputs": [],
   "source": [
    "es = Elasticsearch('http://localhost:9200')\n"
   ]
  },
  {
   "cell_type": "markdown",
   "id": "84f8bdef",
   "metadata": {},
   "source": [
    "### Index Configuration"
   ]
  },
  {
   "cell_type": "code",
   "execution_count": 3,
   "id": "0a45aa93",
   "metadata": {},
   "outputs": [
    {
     "data": {
      "text/plain": [
       "{'acknowledged': True, 'shards_acknowledged': True, 'index': 'wiki'}"
      ]
     },
     "execution_count": 3,
     "metadata": {},
     "output_type": "execute_result"
    }
   ],
   "source": [
    "index_name = 'wiki'\n",
    "\n",
    "mappings = {\n",
    "    'properties': {\n",
    "        'text': {\n",
    "            'type': 'text',\n",
    "            'analyzer': 'white'\n",
    "        }\n",
    "    }\n",
    "}\n",
    "\n",
    "settings = {\n",
    "    \"number_of_shards\" : 5,\n",
    "    'index' : {\n",
    "        'similarity' : {\n",
    "          'default' : {\n",
    "            'type' : 'BM25'   # it's a deafault configuration though\n",
    "          }\n",
    "        }\n",
    "    },\n",
    "    'analysis' : {\n",
    "        'analyzer' : {\n",
    "            'white' : {\n",
    "                'tokenizer' : 'whitespace'\n",
    "            }\n",
    "        }\n",
    "    }\n",
    "}\n",
    "\n",
    "if es.indices.exists(index=index_name):\n",
    "    es.indices.delete(index=index_name)\n",
    "es.indices.create(index=index_name, settings=settings, mappings=mappings)\n"
   ]
  },
  {
   "cell_type": "markdown",
   "id": "447b5087",
   "metadata": {},
   "source": [
    "### WikiIR Collection"
   ]
  },
  {
   "cell_type": "code",
   "execution_count": 4,
   "id": "ea0d3d70",
   "metadata": {},
   "outputs": [
    {
     "name": "stdout",
     "output_type": "stream",
     "text": [
      "(369721, 2)\n"
     ]
    },
    {
     "data": {
      "text/html": [
       "<div>\n",
       "<style scoped>\n",
       "    .dataframe tbody tr th:only-of-type {\n",
       "        vertical-align: middle;\n",
       "    }\n",
       "\n",
       "    .dataframe tbody tr th {\n",
       "        vertical-align: top;\n",
       "    }\n",
       "\n",
       "    .dataframe thead th {\n",
       "        text-align: right;\n",
       "    }\n",
       "</style>\n",
       "<table border=\"1\" class=\"dataframe\">\n",
       "  <thead>\n",
       "    <tr style=\"text-align: right;\">\n",
       "      <th></th>\n",
       "      <th>id_right</th>\n",
       "      <th>text_right</th>\n",
       "    </tr>\n",
       "  </thead>\n",
       "  <tbody>\n",
       "    <tr>\n",
       "      <th>0</th>\n",
       "      <td>1781133</td>\n",
       "      <td>it was used in landing craft during world war ...</td>\n",
       "    </tr>\n",
       "    <tr>\n",
       "      <th>1</th>\n",
       "      <td>2426736</td>\n",
       "      <td>after rejecting an offer from cambridge univer...</td>\n",
       "    </tr>\n",
       "    <tr>\n",
       "      <th>2</th>\n",
       "      <td>2224122</td>\n",
       "      <td>mat zan coached kuala lumpur fa in 1999 and wo...</td>\n",
       "    </tr>\n",
       "    <tr>\n",
       "      <th>3</th>\n",
       "      <td>219642</td>\n",
       "      <td>a barcode is a machine readable optical label ...</td>\n",
       "    </tr>\n",
       "    <tr>\n",
       "      <th>4</th>\n",
       "      <td>1728654</td>\n",
       "      <td>since the subordination of the monarchy under ...</td>\n",
       "    </tr>\n",
       "  </tbody>\n",
       "</table>\n",
       "</div>"
      ],
      "text/plain": [
       "   id_right                                         text_right\n",
       "0   1781133  it was used in landing craft during world war ...\n",
       "1   2426736  after rejecting an offer from cambridge univer...\n",
       "2   2224122  mat zan coached kuala lumpur fa in 1999 and wo...\n",
       "3    219642  a barcode is a machine readable optical label ...\n",
       "4   1728654  since the subordination of the monarchy under ..."
      ]
     },
     "execution_count": 4,
     "metadata": {},
     "output_type": "execute_result"
    }
   ],
   "source": [
    "df = pd.read_csv('wikIR1k/documents.csv')\n",
    "\n",
    "print(df.shape)\n",
    "df.head()\n"
   ]
  },
  {
   "cell_type": "markdown",
   "id": "361a3129",
   "metadata": {},
   "source": [
    "### Indexing documents"
   ]
  },
  {
   "cell_type": "code",
   "execution_count": 5,
   "id": "bbda5929",
   "metadata": {},
   "outputs": [
    {
     "name": "stderr",
     "output_type": "stream",
     "text": [
      "100%|██████████████████████████████| 369721/369721 [00:34<00:00, 10672.43it/s]  \n"
     ]
    },
    {
     "name": "stdout",
     "output_type": "stream",
     "text": [
      "Indexing time: 35.22864580154419\n"
     ]
    },
    {
     "data": {
      "text/plain": [
       "[{'epoch': '1679346670', 'timestamp': '21:11:10', 'count': '369721'}]"
      ]
     },
     "execution_count": 5,
     "metadata": {},
     "output_type": "execute_result"
    }
   ],
   "source": [
    "def create_es_action(index, doc_id, document):\n",
    "    return {\n",
    "        '_index': index,\n",
    "        '_id': doc_id,\n",
    "        '_source': document\n",
    "    }\n",
    "\n",
    "\n",
    "def es_action_generator(df):\n",
    "    for doc_id, row in tqdm(df.iterrows(), total=df.shape[0], bar_format='{l_bar}{bar:30}{r_bar}{bar:-10b}'):\n",
    "        doc = {\n",
    "            'text': row['text_right'],\n",
    "        }\n",
    "        yield create_es_action(index_name, row['id_right'], doc)\n",
    "\n",
    "\n",
    "start = time()\n",
    "for ok, result in parallel_bulk(es, es_action_generator(df), queue_size=4, thread_count=4, chunk_size=1000):\n",
    "    if not ok:\n",
    "        print(result)\n",
    "stop = time()\n",
    "\n",
    "print('Indexing time:', stop-start)\n",
    "        \n",
    "es.indices.refresh(index=index_name)\n",
    "es.cat.count(index=index_name, format='json')\n"
   ]
  },
  {
   "cell_type": "markdown",
   "id": "66aa1e5f",
   "metadata": {},
   "source": [
    "### Train, Test queries"
   ]
  },
  {
   "cell_type": "code",
   "execution_count": 6,
   "id": "861e216f",
   "metadata": {},
   "outputs": [
    {
     "data": {
      "text/html": [
       "<div>\n",
       "<style scoped>\n",
       "    .dataframe tbody tr th:only-of-type {\n",
       "        vertical-align: middle;\n",
       "    }\n",
       "\n",
       "    .dataframe tbody tr th {\n",
       "        vertical-align: top;\n",
       "    }\n",
       "\n",
       "    .dataframe thead th {\n",
       "        text-align: right;\n",
       "    }\n",
       "</style>\n",
       "<table border=\"1\" class=\"dataframe\">\n",
       "  <thead>\n",
       "    <tr style=\"text-align: right;\">\n",
       "      <th></th>\n",
       "      <th>id_left</th>\n",
       "      <th>text_left</th>\n",
       "    </tr>\n",
       "  </thead>\n",
       "  <tbody>\n",
       "    <tr>\n",
       "      <th>0</th>\n",
       "      <td>158491</td>\n",
       "      <td>southern methodist university</td>\n",
       "    </tr>\n",
       "    <tr>\n",
       "      <th>1</th>\n",
       "      <td>5728</td>\n",
       "      <td>halakha</td>\n",
       "    </tr>\n",
       "    <tr>\n",
       "      <th>2</th>\n",
       "      <td>13554</td>\n",
       "      <td>chief justice of the united states</td>\n",
       "    </tr>\n",
       "    <tr>\n",
       "      <th>3</th>\n",
       "      <td>32674</td>\n",
       "      <td>patsy cline</td>\n",
       "    </tr>\n",
       "    <tr>\n",
       "      <th>4</th>\n",
       "      <td>406391</td>\n",
       "      <td>dierks bentley</td>\n",
       "    </tr>\n",
       "    <tr>\n",
       "      <th>...</th>\n",
       "      <td>...</td>\n",
       "      <td>...</td>\n",
       "    </tr>\n",
       "    <tr>\n",
       "      <th>95</th>\n",
       "      <td>679227</td>\n",
       "      <td>hiv aids</td>\n",
       "    </tr>\n",
       "    <tr>\n",
       "      <th>96</th>\n",
       "      <td>2136797</td>\n",
       "      <td>maren morris</td>\n",
       "    </tr>\n",
       "    <tr>\n",
       "      <th>97</th>\n",
       "      <td>5622</td>\n",
       "      <td>homer</td>\n",
       "    </tr>\n",
       "    <tr>\n",
       "      <th>98</th>\n",
       "      <td>1313598</td>\n",
       "      <td>south pole</td>\n",
       "    </tr>\n",
       "    <tr>\n",
       "      <th>99</th>\n",
       "      <td>712704</td>\n",
       "      <td>west indies</td>\n",
       "    </tr>\n",
       "  </tbody>\n",
       "</table>\n",
       "<p>100 rows × 2 columns</p>\n",
       "</div>"
      ],
      "text/plain": [
       "    id_left                           text_left\n",
       "0    158491       southern methodist university\n",
       "1      5728                             halakha\n",
       "2     13554  chief justice of the united states\n",
       "3     32674                         patsy cline\n",
       "4    406391                      dierks bentley\n",
       "..      ...                                 ...\n",
       "95   679227                            hiv aids\n",
       "96  2136797                        maren morris\n",
       "97     5622                               homer\n",
       "98  1313598                          south pole\n",
       "99   712704                         west indies\n",
       "\n",
       "[100 rows x 2 columns]"
      ]
     },
     "execution_count": 6,
     "metadata": {},
     "output_type": "execute_result"
    }
   ],
   "source": [
    "test_queries = pd.read_csv('wikIR1k/test/queries.csv')\n",
    "test_queries"
   ]
  },
  {
   "cell_type": "code",
   "execution_count": 7,
   "id": "fb1cab74",
   "metadata": {},
   "outputs": [],
   "source": [
    "def pretty_print_result(search_result, fields=[]):\n",
    "    res = search_result['hits']\n",
    "    print(f'Total documents: {res[\"total\"][\"value\"]}')\n",
    "    for hit in res['hits']:\n",
    "        print(f'Doc {hit[\"_id\"]}, score is {hit[\"_score\"]}')\n",
    "        for field in fields:\n",
    "            print(f'{field}: {hit[\"_source\"][field]}')\n",
    "    \n",
    "def search(query, *args):\n",
    "    return pretty_print_result(es.search(index=index_name, query=query, size=20), args)\n",
    "\n",
    "def get_doc_by_id(doc_id):\n",
    "    return es.get(index=index_name, id=doc_id)['_source']\n"
   ]
  },
  {
   "cell_type": "code",
   "execution_count": 8,
   "id": "85817a22",
   "metadata": {},
   "outputs": [
    {
     "name": "stdout",
     "output_type": "stream",
     "text": [
      "Total documents: 10000\n",
      "Doc 1880296, score is 17.230719\n",
      "Doc 607552, score is 17.198406\n",
      "Doc 2261272, score is 17.183655\n",
      "Doc 1957435, score is 16.908918\n",
      "Doc 625257, score is 16.856976\n",
      "Doc 635537, score is 16.771313\n",
      "Doc 1774491, score is 16.640131\n",
      "Doc 663828, score is 16.487574\n",
      "Doc 158491, score is 15.997955\n",
      "Doc 1956922, score is 15.973572\n",
      "Doc 1180246, score is 15.590252\n",
      "Doc 1170039, score is 15.534702\n",
      "Doc 945068, score is 15.526761\n",
      "Doc 589549, score is 15.501228\n",
      "Doc 360918, score is 15.501228\n",
      "Doc 685181, score is 15.335788\n",
      "Doc 2411344, score is 15.325968\n",
      "Doc 1158969, score is 15.273922\n",
      "Doc 1093529, score is 15.163386\n",
      "Doc 742912, score is 15.109789\n"
     ]
    }
   ],
   "source": [
    "def make_query(text):\n",
    "    return {\n",
    "        'bool': {\n",
    "            'must': {\n",
    "                'match': {\n",
    "                    'text': text\n",
    "                }\n",
    "            }\n",
    "        }\n",
    "    }\n",
    "\n",
    "search(make_query(test_queries['text_left'][0]))"
   ]
  },
  {
   "cell_type": "markdown",
   "id": "5ec6ff94",
   "metadata": {},
   "source": [
    "## Initial evaluation"
   ]
  },
  {
   "cell_type": "code",
   "execution_count": 9,
   "id": "5e351424",
   "metadata": {},
   "outputs": [],
   "source": [
    "run = {}\n",
    "\n",
    "for i, row in test_queries.iterrows():\n",
    "    search_res = es.search(index=index_name, query=make_query(row['text_left']), size=20)['hits']\n",
    "    run[str(row['id_left'])] = {}\n",
    "                 \n",
    "    for hit in search_res['hits']:\n",
    "        run[str(row['id_left'])][hit['_id']] = hit['_score']\n",
    "                 "
   ]
  },
  {
   "cell_type": "code",
   "execution_count": 10,
   "id": "77bed468",
   "metadata": {},
   "outputs": [
    {
     "data": {
      "text/plain": [
       "{P@20: 0.14800000000000005,\n",
       " P@10: 0.20599999999999988,\n",
       " AP@20: 0.14619425811737782}"
      ]
     },
     "execution_count": 10,
     "metadata": {},
     "output_type": "execute_result"
    }
   ],
   "source": [
    "qrels = ir_measures.read_trec_qrels('wikIR1k/test/qrels')\n",
    "\n",
    "ir_measures.calc_aggregate([P@10, P@20, MAP@20], qrels, run)\n"
   ]
  },
  {
   "cell_type": "markdown",
   "id": "f47ce416",
   "metadata": {},
   "source": [
    "## MSMARCO Model and Cosine similarity"
   ]
  },
  {
   "cell_type": "code",
   "execution_count": 11,
   "id": "8e9cd62b",
   "metadata": {
    "scrolled": true
   },
   "outputs": [],
   "source": [
    "def get_run_from_model(model, run):\n",
    "    '''\n",
    "    Args:\n",
    "        model: SentenceTransformer model\n",
    "        run: query-document-score dict-of-dict\n",
    "    Returns:\n",
    "        run_cosine: query-document-cosine_similarity_score dict-of-dict\n",
    "    '''\n",
    "\n",
    "    q_ids = list(run.keys())  # q_ids -- list of strings\n",
    "    run_cosine = {}\n",
    "\n",
    "    for q_id in tqdm(q_ids, total=len(q_ids), bar_format='{l_bar}{bar:30}{r_bar}{bar:-10b}'):\n",
    "\n",
    "        # query encoding\n",
    "        query_text = test_queries[test_queries['id_left']==int(q_id)].iloc[0]['text_left']\n",
    "        query_embedding = model.encode(query_text)\n",
    "        run_cosine[q_id] = {}\n",
    "\n",
    "        # documents encoding\n",
    "        docs_texts = []\n",
    "        for doc_id in run[str(q_id)]:\n",
    "            docs_texts.append(df[df['id_right']==int(doc_id)].iloc[0]['text_right'])\n",
    "        docs_embedding = model.encode(docs_texts)\n",
    "\n",
    "        # computing cosine similarity\n",
    "        if len(docs_embedding) == 0:\n",
    "            continue\n",
    "        cos_sim = util.cos_sim(query_embedding, docs_embedding)[0]\n",
    "        for i, doc_id in enumerate(run[str(q_id)]):\n",
    "            run_cosine[q_id][doc_id] = cos_sim[i].item()\n",
    "            \n",
    "    return run_cosine\n"
   ]
  },
  {
   "cell_type": "code",
   "execution_count": 12,
   "id": "a849b9e2",
   "metadata": {},
   "outputs": [
    {
     "name": "stderr",
     "output_type": "stream",
     "text": [
      "100%|██████████████████████████████| 100/100 [04:08<00:00,  2.48s/it]                                                                                                                                              \n"
     ]
    }
   ],
   "source": [
    "model = SentenceTransformer('msmarco-distilbert-cos-v5')\n",
    "#model = SentenceTransformer('msmarco-MiniLM-L6-cos-v5')\n",
    "\n",
    "run_cosine = get_run_from_model(model, run)"
   ]
  },
  {
   "cell_type": "code",
   "execution_count": 13,
   "id": "aa902661",
   "metadata": {},
   "outputs": [
    {
     "data": {
      "text/plain": [
       "{P@20: 0.14800000000000005,\n",
       " P@10: 0.2349999999999999,\n",
       " AP@20: 0.17031915835189756}"
      ]
     },
     "execution_count": 13,
     "metadata": {},
     "output_type": "execute_result"
    }
   ],
   "source": [
    "qrels = ir_measures.read_trec_qrels('wikIR1k/test/qrels')\n",
    "\n",
    "ir_measures.calc_aggregate([P@10, P@20, MAP@20], qrels, run_cosine)\n"
   ]
  }
 ],
 "metadata": {
  "kernelspec": {
   "display_name": "Python 3 (ipykernel)",
   "language": "python",
   "name": "python3"
  },
  "language_info": {
   "codemirror_mode": {
    "name": "ipython",
    "version": 3
   },
   "file_extension": ".py",
   "mimetype": "text/x-python",
   "name": "python",
   "nbconvert_exporter": "python",
   "pygments_lexer": "ipython3",
   "version": "3.10.6"
  }
 },
 "nbformat": 4,
 "nbformat_minor": 5
}
