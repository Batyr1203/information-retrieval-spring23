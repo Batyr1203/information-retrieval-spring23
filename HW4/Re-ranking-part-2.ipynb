{
 "cells": [
  {
   "cell_type": "code",
   "execution_count": 1,
   "id": "b33adf44",
   "metadata": {
    "scrolled": true
   },
   "outputs": [
    {
     "name": "stderr",
     "output_type": "stream",
     "text": [
      "2023-03-21 14:20:23.488824: I tensorflow/core/platform/cpu_feature_guard.cc:193] This TensorFlow binary is optimized with oneAPI Deep Neural Network Library (oneDNN) to use the following CPU instructions in performance-critical operations:  AVX2 AVX512F AVX512_VNNI FMA\n",
      "To enable them in other operations, rebuild TensorFlow with the appropriate compiler flags.\n",
      "2023-03-21 14:20:23.591763: I tensorflow/core/util/port.cc:104] oneDNN custom operations are on. You may see slightly different numerical results due to floating-point round-off errors from different computation orders. To turn them off, set the environment variable `TF_ENABLE_ONEDNN_OPTS=0`.\n",
      "2023-03-21 14:20:24.106937: W tensorflow/compiler/xla/stream_executor/platform/default/dso_loader.cc:64] Could not load dynamic library 'libnvinfer.so.7'; dlerror: libnvinfer.so.7: cannot open shared object file: No such file or directory\n",
      "2023-03-21 14:20:24.106988: W tensorflow/compiler/xla/stream_executor/platform/default/dso_loader.cc:64] Could not load dynamic library 'libnvinfer_plugin.so.7'; dlerror: libnvinfer_plugin.so.7: cannot open shared object file: No such file or directory\n",
      "2023-03-21 14:20:24.106994: W tensorflow/compiler/tf2tensorrt/utils/py_utils.cc:38] TF-TRT Warning: Cannot dlopen some TensorRT libraries. If you would like to use Nvidia GPU with TensorRT, please make sure the missing libraries mentioned above are installed properly.\n"
     ]
    }
   ],
   "source": [
    "from elasticsearch import Elasticsearch\n",
    "from elasticsearch.helpers import bulk, parallel_bulk\n",
    "from sentence_transformers import SentenceTransformer, util\n",
    "import ir_measures\n",
    "from ir_measures import *\n",
    "import pandas as pd\n",
    "import numpy as np\n",
    "import json\n",
    "from tqdm import tqdm\n",
    "from time import time\n"
   ]
  },
  {
   "cell_type": "markdown",
   "id": "2d71160b",
   "metadata": {},
   "source": [
    "### Connection"
   ]
  },
  {
   "cell_type": "code",
   "execution_count": 2,
   "id": "8cb16a91",
   "metadata": {},
   "outputs": [],
   "source": [
    "es = Elasticsearch('http://localhost:9200')\n"
   ]
  },
  {
   "cell_type": "markdown",
   "id": "84f8bdef",
   "metadata": {},
   "source": [
    "### Index Configuration"
   ]
  },
  {
   "cell_type": "code",
   "execution_count": 3,
   "id": "0a45aa93",
   "metadata": {},
   "outputs": [
    {
     "data": {
      "text/plain": [
       "{'acknowledged': True, 'shards_acknowledged': True, 'index': 'wiki'}"
      ]
     },
     "execution_count": 3,
     "metadata": {},
     "output_type": "execute_result"
    }
   ],
   "source": [
    "index_name = 'wiki'\n",
    "\n",
    "mappings = {\n",
    "    'properties': {\n",
    "        'text': {\n",
    "            'type': 'text',\n",
    "            'analyzer': 'white'\n",
    "        }\n",
    "    }\n",
    "}\n",
    "\n",
    "settings = {\n",
    "    'index' : {\n",
    "        'similarity' : {\n",
    "          'default' : {\n",
    "            'type' : 'BM25'   # it's a deafault configuration though\n",
    "          }\n",
    "        }\n",
    "    },\n",
    "    'analysis' : {\n",
    "        'analyzer' : {\n",
    "            'white' : {\n",
    "                'tokenizer' : 'whitespace'\n",
    "            }\n",
    "        }\n",
    "    }\n",
    "}\n",
    "\n",
    "if es.indices.exists(index=index_name):\n",
    "    es.indices.delete(index=index_name)\n",
    "es.indices.create(index=index_name, settings=settings, mappings=mappings)\n"
   ]
  },
  {
   "cell_type": "markdown",
   "id": "447b5087",
   "metadata": {},
   "source": [
    "### WikiIR Collection"
   ]
  },
  {
   "cell_type": "code",
   "execution_count": 4,
   "id": "ea0d3d70",
   "metadata": {},
   "outputs": [
    {
     "name": "stdout",
     "output_type": "stream",
     "text": [
      "(369721, 2)\n"
     ]
    },
    {
     "data": {
      "text/html": [
       "<div>\n",
       "<style scoped>\n",
       "    .dataframe tbody tr th:only-of-type {\n",
       "        vertical-align: middle;\n",
       "    }\n",
       "\n",
       "    .dataframe tbody tr th {\n",
       "        vertical-align: top;\n",
       "    }\n",
       "\n",
       "    .dataframe thead th {\n",
       "        text-align: right;\n",
       "    }\n",
       "</style>\n",
       "<table border=\"1\" class=\"dataframe\">\n",
       "  <thead>\n",
       "    <tr style=\"text-align: right;\">\n",
       "      <th></th>\n",
       "      <th>id_right</th>\n",
       "      <th>text_right</th>\n",
       "    </tr>\n",
       "  </thead>\n",
       "  <tbody>\n",
       "    <tr>\n",
       "      <th>0</th>\n",
       "      <td>1781133</td>\n",
       "      <td>it was used in landing craft during world war ...</td>\n",
       "    </tr>\n",
       "    <tr>\n",
       "      <th>1</th>\n",
       "      <td>2426736</td>\n",
       "      <td>after rejecting an offer from cambridge univer...</td>\n",
       "    </tr>\n",
       "    <tr>\n",
       "      <th>2</th>\n",
       "      <td>2224122</td>\n",
       "      <td>mat zan coached kuala lumpur fa in 1999 and wo...</td>\n",
       "    </tr>\n",
       "    <tr>\n",
       "      <th>3</th>\n",
       "      <td>219642</td>\n",
       "      <td>a barcode is a machine readable optical label ...</td>\n",
       "    </tr>\n",
       "    <tr>\n",
       "      <th>4</th>\n",
       "      <td>1728654</td>\n",
       "      <td>since the subordination of the monarchy under ...</td>\n",
       "    </tr>\n",
       "  </tbody>\n",
       "</table>\n",
       "</div>"
      ],
      "text/plain": [
       "   id_right                                         text_right\n",
       "0   1781133  it was used in landing craft during world war ...\n",
       "1   2426736  after rejecting an offer from cambridge univer...\n",
       "2   2224122  mat zan coached kuala lumpur fa in 1999 and wo...\n",
       "3    219642  a barcode is a machine readable optical label ...\n",
       "4   1728654  since the subordination of the monarchy under ..."
      ]
     },
     "execution_count": 4,
     "metadata": {},
     "output_type": "execute_result"
    }
   ],
   "source": [
    "df = pd.read_csv('wikIR1k/documents.csv')\n",
    "\n",
    "print(df.shape)\n",
    "df.head()\n"
   ]
  },
  {
   "cell_type": "markdown",
   "id": "361a3129",
   "metadata": {},
   "source": [
    "### Indexing documents"
   ]
  },
  {
   "cell_type": "code",
   "execution_count": 5,
   "id": "bbda5929",
   "metadata": {},
   "outputs": [
    {
     "name": "stderr",
     "output_type": "stream",
     "text": [
      "100%|██████████████████████████████| 369721/369721 [00:28<00:00, 13149.87it/s]  \n"
     ]
    },
    {
     "name": "stdout",
     "output_type": "stream",
     "text": [
      "Indexing time: 28.21251106262207\n"
     ]
    },
    {
     "data": {
      "text/plain": [
       "[{'epoch': '1679386856', 'timestamp': '08:20:56', 'count': '369721'}]"
      ]
     },
     "execution_count": 5,
     "metadata": {},
     "output_type": "execute_result"
    }
   ],
   "source": [
    "def create_es_action(index, doc_id, document):\n",
    "    return {\n",
    "        '_index': index,\n",
    "        '_id': doc_id,\n",
    "        '_source': document\n",
    "    }\n",
    "\n",
    "\n",
    "def es_action_generator(df):\n",
    "    for doc_id, row in tqdm(df.iterrows(), total=df.shape[0], bar_format='{l_bar}{bar:30}{r_bar}{bar:-10b}'):\n",
    "        doc = {\n",
    "            'text': row['text_right'],\n",
    "        }\n",
    "        yield create_es_action(index_name, row['id_right'], doc)\n",
    "\n",
    "\n",
    "start = time()\n",
    "for ok, result in parallel_bulk(es, es_action_generator(df), queue_size=4, thread_count=4, chunk_size=1000):\n",
    "    if not ok:\n",
    "        print(result)\n",
    "stop = time()\n",
    "\n",
    "print('Indexing time:', stop-start)\n",
    "        \n",
    "es.indices.refresh(index=index_name)\n",
    "es.cat.count(index=index_name, format='json')\n"
   ]
  },
  {
   "cell_type": "markdown",
   "id": "66aa1e5f",
   "metadata": {},
   "source": [
    "### Train queries"
   ]
  },
  {
   "cell_type": "code",
   "execution_count": 6,
   "id": "861e216f",
   "metadata": {},
   "outputs": [
    {
     "data": {
      "text/html": [
       "<div>\n",
       "<style scoped>\n",
       "    .dataframe tbody tr th:only-of-type {\n",
       "        vertical-align: middle;\n",
       "    }\n",
       "\n",
       "    .dataframe tbody tr th {\n",
       "        vertical-align: top;\n",
       "    }\n",
       "\n",
       "    .dataframe thead th {\n",
       "        text-align: right;\n",
       "    }\n",
       "</style>\n",
       "<table border=\"1\" class=\"dataframe\">\n",
       "  <thead>\n",
       "    <tr style=\"text-align: right;\">\n",
       "      <th></th>\n",
       "      <th>id_left</th>\n",
       "      <th>text_left</th>\n",
       "    </tr>\n",
       "  </thead>\n",
       "  <tbody>\n",
       "    <tr>\n",
       "      <th>0</th>\n",
       "      <td>123839</td>\n",
       "      <td>yanni</td>\n",
       "    </tr>\n",
       "    <tr>\n",
       "      <th>1</th>\n",
       "      <td>188629</td>\n",
       "      <td>k pop</td>\n",
       "    </tr>\n",
       "    <tr>\n",
       "      <th>2</th>\n",
       "      <td>13898</td>\n",
       "      <td>venice film festival</td>\n",
       "    </tr>\n",
       "    <tr>\n",
       "      <th>3</th>\n",
       "      <td>316959</td>\n",
       "      <td>downtown brooklyn</td>\n",
       "    </tr>\n",
       "    <tr>\n",
       "      <th>4</th>\n",
       "      <td>515031</td>\n",
       "      <td>pennsylvania house of representatives</td>\n",
       "    </tr>\n",
       "    <tr>\n",
       "      <th>...</th>\n",
       "      <td>...</td>\n",
       "      <td>...</td>\n",
       "    </tr>\n",
       "    <tr>\n",
       "      <th>1439</th>\n",
       "      <td>896124</td>\n",
       "      <td>british ceylon</td>\n",
       "    </tr>\n",
       "    <tr>\n",
       "      <th>1440</th>\n",
       "      <td>12319</td>\n",
       "      <td>scottish national party</td>\n",
       "    </tr>\n",
       "    <tr>\n",
       "      <th>1441</th>\n",
       "      <td>4421</td>\n",
       "      <td>cinema of china</td>\n",
       "    </tr>\n",
       "    <tr>\n",
       "      <th>1442</th>\n",
       "      <td>296526</td>\n",
       "      <td>gold mining</td>\n",
       "    </tr>\n",
       "    <tr>\n",
       "      <th>1443</th>\n",
       "      <td>341793</td>\n",
       "      <td>gloucestershire county cricket club</td>\n",
       "    </tr>\n",
       "  </tbody>\n",
       "</table>\n",
       "<p>1444 rows × 2 columns</p>\n",
       "</div>"
      ],
      "text/plain": [
       "      id_left                              text_left\n",
       "0      123839                                  yanni\n",
       "1      188629                                  k pop\n",
       "2       13898                   venice film festival\n",
       "3      316959                      downtown brooklyn\n",
       "4      515031  pennsylvania house of representatives\n",
       "...       ...                                    ...\n",
       "1439   896124                         british ceylon\n",
       "1440    12319                scottish national party\n",
       "1441     4421                        cinema of china\n",
       "1442   296526                            gold mining\n",
       "1443   341793    gloucestershire county cricket club\n",
       "\n",
       "[1444 rows x 2 columns]"
      ]
     },
     "execution_count": 6,
     "metadata": {},
     "output_type": "execute_result"
    }
   ],
   "source": [
    "train_queries = pd.read_csv('wikIR1k/training/queries.csv')\n",
    "train_queries"
   ]
  },
  {
   "cell_type": "code",
   "execution_count": 7,
   "id": "fb1cab74",
   "metadata": {},
   "outputs": [],
   "source": [
    "def pretty_print_result(search_result, fields=[]):\n",
    "    res = search_result['hits']\n",
    "    print(f'Total documents: {res[\"total\"][\"value\"]}')\n",
    "    for hit in res['hits']:\n",
    "        print(f'Doc {hit[\"_id\"]}, score is {hit[\"_score\"]}')\n",
    "        for field in fields:\n",
    "            print(f'{field}: {hit[\"_source\"][field]}')\n",
    "    \n",
    "def search(query, *args):\n",
    "    return pretty_print_result(es.search(index=index_name, query=query, size=20), args)\n",
    "\n",
    "def get_doc_by_id(doc_id):\n",
    "    return es.get(index=index_name, id=doc_id)['_source']\n"
   ]
  },
  {
   "cell_type": "code",
   "execution_count": 8,
   "id": "85817a22",
   "metadata": {},
   "outputs": [
    {
     "name": "stdout",
     "output_type": "stream",
     "text": [
      "Total documents: 11\n",
      "Doc 806300, score is 18.998993\n",
      "Doc 123839, score is 18.381817\n",
      "Doc 806326, score is 17.52774\n",
      "Doc 836567, score is 17.52774\n",
      "Doc 1793430, score is 16.267975\n",
      "Doc 806075, score is 16.267975\n",
      "Doc 806263, score is 14.223423\n",
      "Doc 799188, score is 10.328993\n",
      "Doc 1727316, score is 10.328993\n",
      "Doc 817579, score is 10.328993\n",
      "Doc 1901730, score is 10.328993\n"
     ]
    }
   ],
   "source": [
    "def make_query(text):\n",
    "    return {\n",
    "        'bool': {\n",
    "            'must': {\n",
    "                'match': {\n",
    "                    'text': text\n",
    "                }\n",
    "            }\n",
    "        }\n",
    "    }\n",
    "\n",
    "search(make_query(train_queries['text_left'][0]))"
   ]
  },
  {
   "cell_type": "markdown",
   "id": "ee667d4e",
   "metadata": {},
   "source": [
    "# Re-ranking"
   ]
  },
  {
   "cell_type": "markdown",
   "id": "3b366245",
   "metadata": {},
   "source": [
    "## Sampling train queries"
   ]
  },
  {
   "cell_type": "code",
   "execution_count": 9,
   "id": "94ca30f7",
   "metadata": {},
   "outputs": [
    {
     "data": {
      "text/html": [
       "<div>\n",
       "<style scoped>\n",
       "    .dataframe tbody tr th:only-of-type {\n",
       "        vertical-align: middle;\n",
       "    }\n",
       "\n",
       "    .dataframe tbody tr th {\n",
       "        vertical-align: top;\n",
       "    }\n",
       "\n",
       "    .dataframe thead th {\n",
       "        text-align: right;\n",
       "    }\n",
       "</style>\n",
       "<table border=\"1\" class=\"dataframe\">\n",
       "  <thead>\n",
       "    <tr style=\"text-align: right;\">\n",
       "      <th></th>\n",
       "      <th>id_left</th>\n",
       "      <th>text_left</th>\n",
       "    </tr>\n",
       "  </thead>\n",
       "  <tbody>\n",
       "    <tr>\n",
       "      <th>413</th>\n",
       "      <td>32411</td>\n",
       "      <td>the salvation army</td>\n",
       "    </tr>\n",
       "    <tr>\n",
       "      <th>316</th>\n",
       "      <td>37955</td>\n",
       "      <td>duisburg</td>\n",
       "    </tr>\n",
       "    <tr>\n",
       "      <th>1034</th>\n",
       "      <td>128473</td>\n",
       "      <td>north somerset</td>\n",
       "    </tr>\n",
       "    <tr>\n",
       "      <th>65</th>\n",
       "      <td>32945</td>\n",
       "      <td>seine et marne</td>\n",
       "    </tr>\n",
       "    <tr>\n",
       "      <th>1024</th>\n",
       "      <td>22478</td>\n",
       "      <td>brisbane river</td>\n",
       "    </tr>\n",
       "    <tr>\n",
       "      <th>...</th>\n",
       "      <td>...</td>\n",
       "      <td>...</td>\n",
       "    </tr>\n",
       "    <tr>\n",
       "      <th>1368</th>\n",
       "      <td>90040</td>\n",
       "      <td>episcopal see</td>\n",
       "    </tr>\n",
       "    <tr>\n",
       "      <th>1289</th>\n",
       "      <td>575724</td>\n",
       "      <td>telugu cinema</td>\n",
       "    </tr>\n",
       "    <tr>\n",
       "      <th>838</th>\n",
       "      <td>77289</td>\n",
       "      <td>oviedo</td>\n",
       "    </tr>\n",
       "    <tr>\n",
       "      <th>266</th>\n",
       "      <td>605568</td>\n",
       "      <td>upper carniola</td>\n",
       "    </tr>\n",
       "    <tr>\n",
       "      <th>327</th>\n",
       "      <td>85285</td>\n",
       "      <td>west coast main line</td>\n",
       "    </tr>\n",
       "  </tbody>\n",
       "</table>\n",
       "<p>500 rows × 2 columns</p>\n",
       "</div>"
      ],
      "text/plain": [
       "      id_left             text_left\n",
       "413     32411    the salvation army\n",
       "316     37955              duisburg\n",
       "1034   128473        north somerset\n",
       "65      32945        seine et marne\n",
       "1024    22478        brisbane river\n",
       "...       ...                   ...\n",
       "1368    90040         episcopal see\n",
       "1289   575724         telugu cinema\n",
       "838     77289                oviedo\n",
       "266    605568        upper carniola\n",
       "327     85285  west coast main line\n",
       "\n",
       "[500 rows x 2 columns]"
      ]
     },
     "execution_count": 9,
     "metadata": {},
     "output_type": "execute_result"
    }
   ],
   "source": [
    "train_queries_sample = train_queries.sample(500, random_state=42)\n",
    "train_queries_sample"
   ]
  },
  {
   "cell_type": "markdown",
   "id": "3a44b865",
   "metadata": {},
   "source": [
    "## Top50 documents by BM25"
   ]
  },
  {
   "cell_type": "code",
   "execution_count": 10,
   "id": "19bf39a2",
   "metadata": {},
   "outputs": [],
   "source": [
    "# Generating query-doc-score dict-of-dict\n",
    "\n",
    "run = {}\n",
    "\n",
    "for i, row in train_queries_sample.iterrows():\n",
    "    search_res = es.search(index=index_name, query=make_query(row['text_left']), size=50)['hits']\n",
    "    run[str(row['id_left'])] = {}\n",
    "                 \n",
    "    for hit in search_res['hits']:\n",
    "        run[str(row['id_left'])][hit['_id']] = hit['_score']\n",
    "                 "
   ]
  },
  {
   "cell_type": "code",
   "execution_count": 11,
   "id": "053e2d18",
   "metadata": {
    "scrolled": true
   },
   "outputs": [
    {
     "data": {
      "text/plain": [
       "{'911461': 1.0,\n",
       " '2088120': 0.9622073314809564,\n",
       " '646427': 0.9468590626380333,\n",
       " '2454505': 0.7793849840246231,\n",
       " '2326181': 0.7793821713550938,\n",
       " '857789': 0.6798974641323109,\n",
       " '1617489': 0.6359824344100116,\n",
       " '325069': 0.6359824344100116,\n",
       " '2179593': 0.635981848437193,\n",
       " '1233281': 0.635981848437193,\n",
       " '1197474': 0.6359813796589382,\n",
       " '1639868': 0.6359804421024283,\n",
       " '2056307': 0.5648390057260092,\n",
       " '32411': 0.548223746454718,\n",
       " '337682': 0.4801999198623575,\n",
       " '408298': 0.47452699981096536,\n",
       " '864603': 0.4408318048232361,\n",
       " '452908': 0.4335817975278744,\n",
       " '403464': 0.40324680507110267,\n",
       " '864601': 0.4032456331254655,\n",
       " '2075605': 0.4032456331254655,\n",
       " '1271293': 0.4032448127635195,\n",
       " '137941': 0.40324410959613705,\n",
       " '1567748': 0.40324410959613705,\n",
       " '613220': 0.40324410959613705,\n",
       " '651196': 0.4032405937592254,\n",
       " '1870777': 0.4032371951168776,\n",
       " '688623': 0.2844793731122153,\n",
       " '2283637': 0.26747315277635675,\n",
       " '1820798': 0.26747104327420995,\n",
       " '954099': 0.2406886868220222,\n",
       " '1326315': 0.21091236085049964,\n",
       " '873733': 0.16699194017826927,\n",
       " '1920127': 0.16699158859457816,\n",
       " '1987066': 0.1148452814948963,\n",
       " '1075448': 0.09570963593625974,\n",
       " '1811404': 0.0957091671580048,\n",
       " '2052703': 0.09570764362867655,\n",
       " '957138': 0.08891621866114824,\n",
       " '1617779': 0.08891457793725616,\n",
       " '1297116': 0.06881969487457773,\n",
       " '1639329': 0.06881887451263169,\n",
       " '1148939': 0.06881817134524948,\n",
       " '579594': 0.06881559306484772,\n",
       " '617204': 0.042886413036535814,\n",
       " '345486': 0.042884772312643725,\n",
       " '2261780': 0.04288371756157021,\n",
       " '1510055': 2.3438912747118583e-07,\n",
       " '2017343': 2.3438912747118583e-07,\n",
       " '2164731': 0.0}"
      ]
     },
     "execution_count": 11,
     "metadata": {},
     "output_type": "execute_result"
    }
   ],
   "source": [
    "def normalize_run(run):\n",
    "    '''\n",
    "    Desc:\n",
    "        Min-Max normalization of scores into [0,1] range \n",
    "    Args:\n",
    "        run: dict-of-dict with query-doc-scores\n",
    "    Returns:\n",
    "        run_norm: dict-of-dict with normalized scores\n",
    "    '''\n",
    "\n",
    "    run_norm = {}\n",
    "    \n",
    "    for query in run.keys():\n",
    "        run_norm[query] = {}\n",
    "        \n",
    "        if len(run[query].values()) == 0:\n",
    "            continue\n",
    "            \n",
    "        scores_min = min(run[query].values())\n",
    "        scores_max = max(run[query].values())\n",
    "                \n",
    "        for doc in run[query].keys():\n",
    "            # division by zero only happens when search returns docs, all having the same score (min=max)\n",
    "            # so we consider the following cases\n",
    "            if scores_max-scores_min == 0:\n",
    "                run_norm[query][doc] = (run[query][doc]-scores_min)/scores_max\n",
    "            else:\n",
    "                run_norm[query][doc] = (run[query][doc]-scores_min)/(scores_max-scores_min)\n",
    "                \n",
    "    return run_norm\n",
    "\n",
    "\n",
    "run_norm = normalize_run(run)  # min-max normalizing BM25 scores\n",
    "run_norm[next(iter(run_norm))] # Example: first query normalized docs scores\n"
   ]
  },
  {
   "cell_type": "markdown",
   "id": "72cd988f",
   "metadata": {},
   "source": [
    "## Getting cosines for query-document embeddings"
   ]
  },
  {
   "cell_type": "code",
   "execution_count": 12,
   "id": "67bfd523",
   "metadata": {},
   "outputs": [],
   "source": [
    "def get_run_from_model(model, queries, run):\n",
    "    '''\n",
    "    Desc:\n",
    "        Calculating cosine similarity scores of query and doc embeddings obtained by the model \n",
    "    Args:\n",
    "        model: SentenceTransformer model\n",
    "        queries: pandas DataFrame containing queries\n",
    "        run: query-document-score dict-of-dict\n",
    "    Returns:\n",
    "        run_cosine: query-document-cosine_similarity_score dict-of-dict\n",
    "    '''\n",
    "\n",
    "    q_ids = list(run.keys())  # q_ids -- list of strings\n",
    "    run_cosine = {}\n",
    "\n",
    "    for q_id in tqdm(q_ids, total=len(q_ids), bar_format='{l_bar}{bar:30}{r_bar}{bar:-10b}'):\n",
    "\n",
    "        # query encoding\n",
    "        query_text = queries[queries['id_left']==int(q_id)]['text_left'].item()\n",
    "        query_embedding = model.encode(query_text)\n",
    "        run_cosine[q_id] = {}\n",
    "\n",
    "        # documents encoding\n",
    "        docs_texts = []\n",
    "        for doc_id in run[str(q_id)]:\n",
    "            docs_texts.append(df[df['id_right']==int(doc_id)]['text_right'].item())\n",
    "        docs_embedding = model.encode(docs_texts)\n",
    "\n",
    "        # computing cosine similarity\n",
    "        if len(docs_embedding) == 0:\n",
    "            continue\n",
    "        cos_sim = util.cos_sim(query_embedding, docs_embedding)[0]\n",
    "        for i, doc_id in enumerate(run[str(q_id)]):\n",
    "            run_cosine[q_id][doc_id] = cos_sim[i].item()\n",
    "            \n",
    "    return run_cosine\n"
   ]
  },
  {
   "cell_type": "code",
   "execution_count": 13,
   "id": "f8a162ec",
   "metadata": {
    "scrolled": false
   },
   "outputs": [
    {
     "name": "stderr",
     "output_type": "stream",
     "text": [
      "100%|██████████████████████████████| 500/500 [42:01<00:00,  5.04s/it]           \n"
     ]
    }
   ],
   "source": [
    "model = SentenceTransformer('msmarco-distilbert-cos-v5')\n",
    "#model = SentenceTransformer('msmarco-MiniLM-L6-cos-v5')\n",
    "\n",
    "run_cosine = get_run_from_model(model, train_queries_sample, run)\n"
   ]
  },
  {
   "cell_type": "markdown",
   "id": "3bc80fc8",
   "metadata": {},
   "source": [
    "## Searhing for the optimal alpha"
   ]
  },
  {
   "cell_type": "code",
   "execution_count": 14,
   "id": "2ce30d94",
   "metadata": {},
   "outputs": [],
   "source": [
    "def combine_results(run1, run2, alpha):\n",
    "    '''\n",
    "    Args:\n",
    "        run1: 1st scores\n",
    "        run2: 2nd scores\n",
    "        alpha: scalar\n",
    "    Returns:\n",
    "        run_mix: combination of score1 and score2\n",
    "    '''\n",
    "\n",
    "    run_mix = {}\n",
    "    \n",
    "    for query in run1.keys():\n",
    "        run_mix[query] = {}\n",
    "        \n",
    "        for doc in run1[query].keys():\n",
    "            bm25 = run1[query][doc]\n",
    "            cos_sim = run2[query][doc]\n",
    "            \n",
    "            run_mix[query][doc] = alpha*bm25 + (1-alpha)*cos_sim\n",
    "    \n",
    "    return run_mix\n"
   ]
  },
  {
   "cell_type": "code",
   "execution_count": 15,
   "id": "3530f41c",
   "metadata": {
    "scrolled": true
   },
   "outputs": [],
   "source": [
    "# Taking the corresponding sample of queries of qrels\n",
    "samples_q_ids = train_queries_sample['id_left'].values.tolist()\n",
    "\n",
    "qrels = list(ir_measures.read_trec_qrels('wikIR1k/training/qrels'))\n",
    "\n",
    "qrels_sample = []\n",
    "for qrel in qrels:\n",
    "    if int(qrel[0]) in samples_q_ids:\n",
    "        qrels_sample.append(qrel)\n"
   ]
  },
  {
   "cell_type": "code",
   "execution_count": 16,
   "id": "3f5ef79f",
   "metadata": {},
   "outputs": [],
   "source": [
    "alpha_range = np.linspace(0, 1, 100)"
   ]
  },
  {
   "cell_type": "code",
   "execution_count": 17,
   "id": "d4e8a2a3",
   "metadata": {
    "scrolled": true
   },
   "outputs": [],
   "source": [
    "results = {}\n",
    "\n",
    "for alpha in alpha_range:\n",
    "    run_mix = combine_results(run_norm, run_cosine, alpha)\n",
    "    map20 = ir_measures.calc_aggregate([MAP@20], qrels_sample, run_mix)\n",
    "    map20 = list(map20.values())[0]\n",
    "    results[alpha] = map20\n"
   ]
  },
  {
   "cell_type": "code",
   "execution_count": 18,
   "id": "bb219a36",
   "metadata": {
    "scrolled": true
   },
   "outputs": [
    {
     "name": "stdout",
     "output_type": "stream",
     "text": [
      "alpha \t MAP@20\n",
      "---------------\n",
      "0.1515\t0.18491\n",
      "0.1414\t0.18486\n",
      "0.1313\t0.18482\n",
      "0.1616\t0.18481\n",
      "0.1919\t0.18477\n",
      "0.1212\t0.18469\n",
      "0.2323\t0.18461\n",
      "0.2222\t0.18454\n",
      "0.1717\t0.18453\n",
      "0.202\t0.18448\n",
      "0.2424\t0.18435\n",
      "0.2121\t0.18433\n",
      "0.1818\t0.18433\n",
      "0.2626\t0.18425\n",
      "0.2525\t0.18425\n",
      "0.1111\t0.18408\n",
      "0.2828\t0.18395\n",
      "0.2727\t0.18393\n",
      "0.101\t0.18367\n",
      "0.2929\t0.1834\n",
      "0.0909\t0.18338\n",
      "0.303\t0.183\n",
      "0.0808\t0.18287\n",
      "0.3131\t0.18258\n",
      "0.3232\t0.18249\n",
      "0.3333\t0.18228\n",
      "0.0707\t0.18202\n",
      "0.0606\t0.182\n",
      "0.3434\t0.1817\n",
      "0.0505\t0.18131\n",
      "0.3535\t0.18076\n",
      "0.3636\t0.18038\n",
      "0.0404\t0.18029\n",
      "0.0303\t0.18019\n",
      "0.3737\t0.17999\n",
      "0.3838\t0.17953\n",
      "0.0202\t0.17929\n",
      "0.3939\t0.17895\n",
      "0.0101\t0.17892\n",
      "0.404\t0.17798\n",
      "0.0\t0.17795\n",
      "0.4141\t0.17777\n",
      "0.4242\t0.17711\n",
      "0.4343\t0.17652\n",
      "0.4444\t0.17608\n",
      "0.4545\t0.17576\n",
      "0.4646\t0.17558\n",
      "0.4747\t0.17493\n",
      "0.4848\t0.17451\n",
      "0.4949\t0.17406\n",
      "0.5051\t0.17378\n",
      "0.5152\t0.1731\n",
      "0.5253\t0.17278\n",
      "0.5354\t0.17258\n",
      "0.5455\t0.1721\n",
      "0.5556\t0.17145\n",
      "0.5657\t0.17085\n",
      "0.5758\t0.17039\n",
      "0.5859\t0.16997\n",
      "0.596\t0.16917\n",
      "0.6061\t0.16882\n",
      "0.6162\t0.16829\n",
      "0.6263\t0.16781\n",
      "0.6364\t0.16768\n",
      "0.6465\t0.16738\n",
      "0.6566\t0.16698\n",
      "0.6667\t0.1667\n",
      "0.6768\t0.16634\n",
      "0.6869\t0.1661\n",
      "0.697\t0.16583\n",
      "0.7071\t0.16555\n",
      "0.7172\t0.1654\n",
      "0.7273\t0.16508\n",
      "0.7374\t0.16482\n",
      "0.7475\t0.16399\n",
      "0.7576\t0.16346\n",
      "0.7677\t0.16321\n",
      "0.7778\t0.16289\n",
      "0.7879\t0.16258\n",
      "0.798\t0.16227\n",
      "0.8081\t0.16192\n",
      "0.8182\t0.16167\n",
      "0.8283\t0.16107\n",
      "0.8384\t0.16088\n",
      "0.8485\t0.16079\n",
      "0.8586\t0.16031\n",
      "0.8687\t0.15998\n",
      "0.8788\t0.15964\n",
      "0.8889\t0.15936\n",
      "0.899\t0.15912\n",
      "0.9091\t0.15907\n",
      "0.9192\t0.15887\n",
      "0.9293\t0.15881\n",
      "0.9394\t0.15865\n",
      "0.9495\t0.15854\n",
      "0.9596\t0.1584\n",
      "0.9697\t0.15836\n",
      "0.9798\t0.15825\n",
      "0.9899\t0.15802\n",
      "1.0\t0.15409\n",
      "\n",
      "Best alpha: 0.15151515151515152,\n",
      "MAP@20 Score: 0.18490503546409562\n"
     ]
    }
   ],
   "source": [
    "results_sorted = dict(sorted(results.items(), key=lambda item: item[1], reverse=True))\n",
    "\n",
    "print('alpha \\t MAP@20\\n---------------')\n",
    "for alpha, score in results_sorted.items():\n",
    "    print(f'{round(alpha,4)}\\t{round(score,5)}')\n",
    "\n",
    "\n",
    "alpha_best = next(iter(results_sorted))\n",
    "print(f'\\nBest alpha: {alpha_best},\\nMAP@20 Score: {results_sorted[alpha_best]}')\n"
   ]
  },
  {
   "cell_type": "markdown",
   "id": "d8a6d775",
   "metadata": {},
   "source": [
    "##  Applying the formula to test queries"
   ]
  },
  {
   "cell_type": "code",
   "execution_count": 19,
   "id": "f892ec6a",
   "metadata": {},
   "outputs": [
    {
     "data": {
      "text/html": [
       "<div>\n",
       "<style scoped>\n",
       "    .dataframe tbody tr th:only-of-type {\n",
       "        vertical-align: middle;\n",
       "    }\n",
       "\n",
       "    .dataframe tbody tr th {\n",
       "        vertical-align: top;\n",
       "    }\n",
       "\n",
       "    .dataframe thead th {\n",
       "        text-align: right;\n",
       "    }\n",
       "</style>\n",
       "<table border=\"1\" class=\"dataframe\">\n",
       "  <thead>\n",
       "    <tr style=\"text-align: right;\">\n",
       "      <th></th>\n",
       "      <th>id_left</th>\n",
       "      <th>text_left</th>\n",
       "    </tr>\n",
       "  </thead>\n",
       "  <tbody>\n",
       "    <tr>\n",
       "      <th>0</th>\n",
       "      <td>158491</td>\n",
       "      <td>southern methodist university</td>\n",
       "    </tr>\n",
       "    <tr>\n",
       "      <th>1</th>\n",
       "      <td>5728</td>\n",
       "      <td>halakha</td>\n",
       "    </tr>\n",
       "    <tr>\n",
       "      <th>2</th>\n",
       "      <td>13554</td>\n",
       "      <td>chief justice of the united states</td>\n",
       "    </tr>\n",
       "    <tr>\n",
       "      <th>3</th>\n",
       "      <td>32674</td>\n",
       "      <td>patsy cline</td>\n",
       "    </tr>\n",
       "    <tr>\n",
       "      <th>4</th>\n",
       "      <td>406391</td>\n",
       "      <td>dierks bentley</td>\n",
       "    </tr>\n",
       "    <tr>\n",
       "      <th>...</th>\n",
       "      <td>...</td>\n",
       "      <td>...</td>\n",
       "    </tr>\n",
       "    <tr>\n",
       "      <th>95</th>\n",
       "      <td>679227</td>\n",
       "      <td>hiv aids</td>\n",
       "    </tr>\n",
       "    <tr>\n",
       "      <th>96</th>\n",
       "      <td>2136797</td>\n",
       "      <td>maren morris</td>\n",
       "    </tr>\n",
       "    <tr>\n",
       "      <th>97</th>\n",
       "      <td>5622</td>\n",
       "      <td>homer</td>\n",
       "    </tr>\n",
       "    <tr>\n",
       "      <th>98</th>\n",
       "      <td>1313598</td>\n",
       "      <td>south pole</td>\n",
       "    </tr>\n",
       "    <tr>\n",
       "      <th>99</th>\n",
       "      <td>712704</td>\n",
       "      <td>west indies</td>\n",
       "    </tr>\n",
       "  </tbody>\n",
       "</table>\n",
       "<p>100 rows × 2 columns</p>\n",
       "</div>"
      ],
      "text/plain": [
       "    id_left                           text_left\n",
       "0    158491       southern methodist university\n",
       "1      5728                             halakha\n",
       "2     13554  chief justice of the united states\n",
       "3     32674                         patsy cline\n",
       "4    406391                      dierks bentley\n",
       "..      ...                                 ...\n",
       "95   679227                            hiv aids\n",
       "96  2136797                        maren morris\n",
       "97     5622                               homer\n",
       "98  1313598                          south pole\n",
       "99   712704                         west indies\n",
       "\n",
       "[100 rows x 2 columns]"
      ]
     },
     "execution_count": 19,
     "metadata": {},
     "output_type": "execute_result"
    }
   ],
   "source": [
    "test_queries = pd.read_csv('wikIR1k/test/queries.csv')\n",
    "test_queries"
   ]
  },
  {
   "cell_type": "markdown",
   "id": "3fe2a333",
   "metadata": {},
   "source": [
    "### BM25 scores"
   ]
  },
  {
   "cell_type": "code",
   "execution_count": 20,
   "id": "26204b53",
   "metadata": {},
   "outputs": [
    {
     "name": "stdout",
     "output_type": "stream",
     "text": [
      "{P@20: 0.14900000000000005, P@10: 0.20699999999999988, AP@20: 0.1482622229022594}\n"
     ]
    }
   ],
   "source": [
    "run_bm25 = {}\n",
    "\n",
    "for i, row in test_queries.iterrows():\n",
    "    search_res = es.search(index=index_name, query=make_query(row['text_left']), size=50)['hits']\n",
    "    run_bm25[str(row['id_left'])] = {}\n",
    "                 \n",
    "    for hit in search_res['hits']:\n",
    "        run_bm25[str(row['id_left'])][hit['_id']] = hit['_score']\n",
    "\n",
    "qrels = ir_measures.read_trec_qrels('wikIR1k/test/qrels')\n",
    "print(ir_measures.calc_aggregate([P@10, P@20, MAP@20], qrels, run_bm25))\n"
   ]
  },
  {
   "cell_type": "markdown",
   "id": "c0e1218c",
   "metadata": {},
   "source": [
    "### Cosine similarity results"
   ]
  },
  {
   "cell_type": "code",
   "execution_count": 21,
   "id": "fe57273a",
   "metadata": {},
   "outputs": [
    {
     "name": "stderr",
     "output_type": "stream",
     "text": [
      "100%|██████████████████████████████| 100/100 [08:04<00:00,  4.85s/it]           \n"
     ]
    }
   ],
   "source": [
    "run_cosine = get_run_from_model(model, test_queries, run_bm25)\n"
   ]
  },
  {
   "cell_type": "code",
   "execution_count": 22,
   "id": "d0d225d9",
   "metadata": {},
   "outputs": [
    {
     "name": "stdout",
     "output_type": "stream",
     "text": [
      "{P@20: 0.15900000000000003, P@10: 0.23200000000000007, AP@20: 0.17708629178647126}\n"
     ]
    }
   ],
   "source": [
    "qrels = ir_measures.read_trec_qrels('wikIR1k/test/qrels')\n",
    "print(ir_measures.calc_aggregate([P@10, P@20, MAP@20], qrels, run_cosine))\n"
   ]
  },
  {
   "cell_type": "markdown",
   "id": "12710cf0",
   "metadata": {},
   "source": [
    "### BM25 + Cosine (with alpha)"
   ]
  },
  {
   "cell_type": "code",
   "execution_count": 23,
   "id": "d8f93f89",
   "metadata": {},
   "outputs": [],
   "source": [
    "# normalizing bm25 results\n",
    "run_bm25_norm = normalize_run(run_bm25)"
   ]
  },
  {
   "cell_type": "code",
   "execution_count": 24,
   "id": "0f2d4c17",
   "metadata": {},
   "outputs": [],
   "source": [
    "# combining BM25 and cosine similarity results \n",
    "run_final = combine_results(run_bm25_norm, run_cosine, alpha_best)"
   ]
  },
  {
   "cell_type": "code",
   "execution_count": 25,
   "id": "f14c3217",
   "metadata": {},
   "outputs": [
    {
     "name": "stdout",
     "output_type": "stream",
     "text": [
      "{P@20: 0.16500000000000006, P@10: 0.24200000000000002, AP@20: 0.18205409450202997}\n"
     ]
    }
   ],
   "source": [
    "# evaluation\n",
    "qrels = ir_measures.read_trec_qrels('wikIR1k/test/qrels')\n",
    "print(ir_measures.calc_aggregate([P@10, P@20, MAP@20], qrels, run_final))\n"
   ]
  }
 ],
 "metadata": {
  "kernelspec": {
   "display_name": "Python 3 (ipykernel)",
   "language": "python",
   "name": "python3"
  },
  "language_info": {
   "codemirror_mode": {
    "name": "ipython",
    "version": 3
   },
   "file_extension": ".py",
   "mimetype": "text/x-python",
   "name": "python",
   "nbconvert_exporter": "python",
   "pygments_lexer": "ipython3",
   "version": "3.10.6"
  }
 },
 "nbformat": 4,
 "nbformat_minor": 5
}
