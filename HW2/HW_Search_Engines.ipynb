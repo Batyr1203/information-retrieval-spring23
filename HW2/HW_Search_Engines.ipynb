{
 "cells": [
  {
   "cell_type": "code",
   "execution_count": 1,
   "id": "03144f32",
   "metadata": {},
   "outputs": [],
   "source": [
    "from elasticsearch import Elasticsearch\n",
    "from elasticsearch.helpers import bulk, parallel_bulk\n",
    "import ir_measures\n",
    "from ir_measures import *\n",
    "import pandas as pd\n",
    "import json\n",
    "from tqdm import tqdm\n",
    "from time import time\n",
    "import spacy\n"
   ]
  },
  {
   "cell_type": "markdown",
   "id": "a2b5d93a",
   "metadata": {},
   "source": [
    "### Connection"
   ]
  },
  {
   "cell_type": "code",
   "execution_count": 2,
   "id": "12e67745",
   "metadata": {},
   "outputs": [],
   "source": [
    "es = Elasticsearch('http://localhost:9200')\n"
   ]
  },
  {
   "cell_type": "code",
   "execution_count": 3,
   "id": "1a210c50",
   "metadata": {},
   "outputs": [],
   "source": [
    "index_name = 'wiki'\n"
   ]
  },
  {
   "cell_type": "markdown",
   "id": "c37c4694",
   "metadata": {},
   "source": [
    "# Case 1: Without Stemming\n",
    "\n",
    "### Index Configuration"
   ]
  },
  {
   "cell_type": "code",
   "execution_count": 4,
   "id": "85e66bfd",
   "metadata": {},
   "outputs": [
    {
     "data": {
      "text/plain": [
       "ObjectApiResponse({'acknowledged': True, 'shards_acknowledged': True, 'index': 'wiki'})"
      ]
     },
     "execution_count": 4,
     "metadata": {},
     "output_type": "execute_result"
    }
   ],
   "source": [
    "mappings = {\n",
    "    'properties': {\n",
    "        'text': {\n",
    "            'type': 'text',\n",
    "            'analyzer': 'white'\n",
    "        }\n",
    "    }\n",
    "}\n",
    "\n",
    "settings = {\n",
    "    'analysis' : {\n",
    "        'analyzer' : {\n",
    "            'white' : {\n",
    "                'tokenizer' : 'whitespace'\n",
    "            }\n",
    "        }\n",
    "    }\n",
    "}\n",
    "\n",
    "if es.indices.exists(index=index_name):\n",
    "    es.indices.delete(index=index_name)\n",
    "es.indices.create(index=index_name, settings=settings, mappings=mappings)\n"
   ]
  },
  {
   "cell_type": "markdown",
   "id": "121b9f19",
   "metadata": {},
   "source": [
    "### Checking analyzer"
   ]
  },
  {
   "cell_type": "code",
   "execution_count": 5,
   "id": "6b00eea3",
   "metadata": {},
   "outputs": [
    {
     "name": "stderr",
     "output_type": "stream",
     "text": [
      "/tmp/ipykernel_11417/2575333439.py:6: DeprecationWarning: The 'body' parameter is deprecated and will be removed in a future version. Instead use individual parameters.\n",
      "  tokens = es.indices.analyze(index=index_name, body=body)['tokens']\n"
     ]
    },
    {
     "data": {
      "text/plain": [
       "['I', 'am', 'using', 'elastic', 'search']"
      ]
     },
     "execution_count": 5,
     "metadata": {},
     "output_type": "execute_result"
    }
   ],
   "source": [
    "def check_analyzer(analyzer, text):\n",
    "    \n",
    "    body = analyzer\n",
    "    body['text'] = text\n",
    "    \n",
    "    tokens = es.indices.analyze(index=index_name, body=body)['tokens']\n",
    "    tokens = [token_info['token'] for token_info in tokens]\n",
    "    return tokens\n",
    "\n",
    "text = 'I am using elastic search'\n",
    "analyzer = {\n",
    "    'analyzer': 'white'\n",
    "}\n",
    "\n",
    "check_analyzer(analyzer, text)\n"
   ]
  },
  {
   "cell_type": "markdown",
   "id": "d2e374a4",
   "metadata": {},
   "source": [
    "### WikiIR collection"
   ]
  },
  {
   "cell_type": "code",
   "execution_count": 6,
   "id": "78f938b2",
   "metadata": {},
   "outputs": [
    {
     "name": "stdout",
     "output_type": "stream",
     "text": [
      "(369721, 2)\n"
     ]
    },
    {
     "data": {
      "text/html": [
       "<div>\n",
       "<style scoped>\n",
       "    .dataframe tbody tr th:only-of-type {\n",
       "        vertical-align: middle;\n",
       "    }\n",
       "\n",
       "    .dataframe tbody tr th {\n",
       "        vertical-align: top;\n",
       "    }\n",
       "\n",
       "    .dataframe thead th {\n",
       "        text-align: right;\n",
       "    }\n",
       "</style>\n",
       "<table border=\"1\" class=\"dataframe\">\n",
       "  <thead>\n",
       "    <tr style=\"text-align: right;\">\n",
       "      <th></th>\n",
       "      <th>id_right</th>\n",
       "      <th>text_right</th>\n",
       "    </tr>\n",
       "  </thead>\n",
       "  <tbody>\n",
       "    <tr>\n",
       "      <th>0</th>\n",
       "      <td>1781133</td>\n",
       "      <td>it was used in landing craft during world war ...</td>\n",
       "    </tr>\n",
       "    <tr>\n",
       "      <th>1</th>\n",
       "      <td>2426736</td>\n",
       "      <td>after rejecting an offer from cambridge univer...</td>\n",
       "    </tr>\n",
       "    <tr>\n",
       "      <th>2</th>\n",
       "      <td>2224122</td>\n",
       "      <td>mat zan coached kuala lumpur fa in 1999 and wo...</td>\n",
       "    </tr>\n",
       "    <tr>\n",
       "      <th>3</th>\n",
       "      <td>219642</td>\n",
       "      <td>a barcode is a machine readable optical label ...</td>\n",
       "    </tr>\n",
       "    <tr>\n",
       "      <th>4</th>\n",
       "      <td>1728654</td>\n",
       "      <td>since the subordination of the monarchy under ...</td>\n",
       "    </tr>\n",
       "    <tr>\n",
       "      <th>...</th>\n",
       "      <td>...</td>\n",
       "      <td>...</td>\n",
       "    </tr>\n",
       "    <tr>\n",
       "      <th>369716</th>\n",
       "      <td>59396</td>\n",
       "      <td>the population was 416 at the 2010 census the ...</td>\n",
       "    </tr>\n",
       "    <tr>\n",
       "      <th>369717</th>\n",
       "      <td>1950034</td>\n",
       "      <td>the surface of the river is frozen from novemb...</td>\n",
       "    </tr>\n",
       "    <tr>\n",
       "      <th>369718</th>\n",
       "      <td>1984468</td>\n",
       "      <td>the first anti thrombin aptamer tba was genera...</td>\n",
       "    </tr>\n",
       "    <tr>\n",
       "      <th>369719</th>\n",
       "      <td>33966</td>\n",
       "      <td>state of oklahoma as of the 2010 census the po...</td>\n",
       "    </tr>\n",
       "    <tr>\n",
       "      <th>369720</th>\n",
       "      <td>1230943</td>\n",
       "      <td>geetha jeevan born 6 may 1970 is the current m...</td>\n",
       "    </tr>\n",
       "  </tbody>\n",
       "</table>\n",
       "<p>369721 rows × 2 columns</p>\n",
       "</div>"
      ],
      "text/plain": [
       "        id_right                                         text_right\n",
       "0        1781133  it was used in landing craft during world war ...\n",
       "1        2426736  after rejecting an offer from cambridge univer...\n",
       "2        2224122  mat zan coached kuala lumpur fa in 1999 and wo...\n",
       "3         219642  a barcode is a machine readable optical label ...\n",
       "4        1728654  since the subordination of the monarchy under ...\n",
       "...          ...                                                ...\n",
       "369716     59396  the population was 416 at the 2010 census the ...\n",
       "369717   1950034  the surface of the river is frozen from novemb...\n",
       "369718   1984468  the first anti thrombin aptamer tba was genera...\n",
       "369719     33966  state of oklahoma as of the 2010 census the po...\n",
       "369720   1230943  geetha jeevan born 6 may 1970 is the current m...\n",
       "\n",
       "[369721 rows x 2 columns]"
      ]
     },
     "execution_count": 6,
     "metadata": {},
     "output_type": "execute_result"
    }
   ],
   "source": [
    "df = pd.read_csv('wikIR1k/documents.csv')\n",
    "\n",
    "print(df.shape)\n",
    "df\n"
   ]
  },
  {
   "cell_type": "markdown",
   "id": "43cca1dc",
   "metadata": {},
   "source": [
    "### Indexing documents"
   ]
  },
  {
   "cell_type": "code",
   "execution_count": 7,
   "id": "0f67a942",
   "metadata": {},
   "outputs": [
    {
     "name": "stderr",
     "output_type": "stream",
     "text": [
      "100%|████████████████████████████████| 369721/369721 [00:30<00:00, 11942.82it/s]\n"
     ]
    },
    {
     "name": "stdout",
     "output_type": "stream",
     "text": [
      "Indexing time: 31.101529836654663\n"
     ]
    },
    {
     "data": {
      "text/plain": [
       "ListApiResponse([{'epoch': '1676905279', 'timestamp': '15:01:19', 'count': '369721'}])"
      ]
     },
     "execution_count": 7,
     "metadata": {},
     "output_type": "execute_result"
    }
   ],
   "source": [
    "def create_es_action(index, doc_id, document):\n",
    "    return {\n",
    "        '_index': index,\n",
    "        '_id': doc_id,\n",
    "        '_source': document\n",
    "    }\n",
    "\n",
    "\n",
    "def es_action_generator(df):\n",
    "    for doc_id, row in tqdm(df.iterrows(), total=df.shape[0]):\n",
    "        doc = {\n",
    "            'text': row['text_right'],\n",
    "        }\n",
    "        yield create_es_action(index_name, row['id_right'], doc)\n",
    "\n",
    "\n",
    "start = time()\n",
    "for ok, result in parallel_bulk(es, es_action_generator(df), queue_size=4, thread_count=4, chunk_size=1000):\n",
    "    if not ok:\n",
    "        print(result)\n",
    "stop = time()\n",
    "\n",
    "print('Indexing time:', stop-start)\n",
    "        \n",
    "es.indices.refresh(index=index_name)\n",
    "es.cat.count(index=index_name, format='json')\n"
   ]
  },
  {
   "cell_type": "code",
   "execution_count": 8,
   "id": "e8a12a50",
   "metadata": {},
   "outputs": [],
   "source": [
    "def pretty_print_result(search_result, fields=[]):\n",
    "    res = search_result['hits']\n",
    "    print(f'Total documents: {res[\"total\"][\"value\"]}')\n",
    "    for hit in res['hits']:\n",
    "        print(f'Doc {hit[\"_id\"]}, score is {hit[\"_score\"]}')\n",
    "        for field in fields:\n",
    "            print(f'{field}: {hit[\"_source\"][field]}')\n",
    "    \n",
    "def search(query, *args):\n",
    "    return pretty_print_result(es.search(index=index_name, query=query, size=20), args)\n",
    "\n",
    "def get_doc_by_id(doc_id):\n",
    "    return es.get(index=index_name, id=doc_id)['_source']\n",
    "\n",
    "# customized\n",
    "def get_results(search_result):\n",
    "    res = search_result['hits']\n",
    "    for hit in res['hits']:        \n",
    "        return hit['_id'], hit['_score']\n",
    "\n",
    "def search_results(query_id, query):\n",
    "    res = es.search(index=index_name, query=query, size=20)['hits']\n",
    "    ret = []\n",
    "    for rank, hit in enumerate(res['hits']):\n",
    "        ret.append((str(query_id), str(hit['_id']), hit['_score'], rank))\n",
    "    return ret\n"
   ]
  },
  {
   "cell_type": "markdown",
   "id": "0230c448",
   "metadata": {},
   "source": [
    "### Queries"
   ]
  },
  {
   "cell_type": "code",
   "execution_count": 9,
   "id": "bbe854f7",
   "metadata": {},
   "outputs": [
    {
     "data": {
      "text/html": [
       "<div>\n",
       "<style scoped>\n",
       "    .dataframe tbody tr th:only-of-type {\n",
       "        vertical-align: middle;\n",
       "    }\n",
       "\n",
       "    .dataframe tbody tr th {\n",
       "        vertical-align: top;\n",
       "    }\n",
       "\n",
       "    .dataframe thead th {\n",
       "        text-align: right;\n",
       "    }\n",
       "</style>\n",
       "<table border=\"1\" class=\"dataframe\">\n",
       "  <thead>\n",
       "    <tr style=\"text-align: right;\">\n",
       "      <th></th>\n",
       "      <th>id_left</th>\n",
       "      <th>text_left</th>\n",
       "    </tr>\n",
       "  </thead>\n",
       "  <tbody>\n",
       "    <tr>\n",
       "      <th>0</th>\n",
       "      <td>158491</td>\n",
       "      <td>southern methodist university</td>\n",
       "    </tr>\n",
       "    <tr>\n",
       "      <th>1</th>\n",
       "      <td>5728</td>\n",
       "      <td>halakha</td>\n",
       "    </tr>\n",
       "    <tr>\n",
       "      <th>2</th>\n",
       "      <td>13554</td>\n",
       "      <td>chief justice of the united states</td>\n",
       "    </tr>\n",
       "    <tr>\n",
       "      <th>3</th>\n",
       "      <td>32674</td>\n",
       "      <td>patsy cline</td>\n",
       "    </tr>\n",
       "    <tr>\n",
       "      <th>4</th>\n",
       "      <td>406391</td>\n",
       "      <td>dierks bentley</td>\n",
       "    </tr>\n",
       "    <tr>\n",
       "      <th>...</th>\n",
       "      <td>...</td>\n",
       "      <td>...</td>\n",
       "    </tr>\n",
       "    <tr>\n",
       "      <th>95</th>\n",
       "      <td>679227</td>\n",
       "      <td>hiv aids</td>\n",
       "    </tr>\n",
       "    <tr>\n",
       "      <th>96</th>\n",
       "      <td>2136797</td>\n",
       "      <td>maren morris</td>\n",
       "    </tr>\n",
       "    <tr>\n",
       "      <th>97</th>\n",
       "      <td>5622</td>\n",
       "      <td>homer</td>\n",
       "    </tr>\n",
       "    <tr>\n",
       "      <th>98</th>\n",
       "      <td>1313598</td>\n",
       "      <td>south pole</td>\n",
       "    </tr>\n",
       "    <tr>\n",
       "      <th>99</th>\n",
       "      <td>712704</td>\n",
       "      <td>west indies</td>\n",
       "    </tr>\n",
       "  </tbody>\n",
       "</table>\n",
       "<p>100 rows × 2 columns</p>\n",
       "</div>"
      ],
      "text/plain": [
       "    id_left                           text_left\n",
       "0    158491       southern methodist university\n",
       "1      5728                             halakha\n",
       "2     13554  chief justice of the united states\n",
       "3     32674                         patsy cline\n",
       "4    406391                      dierks bentley\n",
       "..      ...                                 ...\n",
       "95   679227                            hiv aids\n",
       "96  2136797                        maren morris\n",
       "97     5622                               homer\n",
       "98  1313598                          south pole\n",
       "99   712704                         west indies\n",
       "\n",
       "[100 rows x 2 columns]"
      ]
     },
     "execution_count": 9,
     "metadata": {},
     "output_type": "execute_result"
    }
   ],
   "source": [
    "test_queries = pd.read_csv('wikIR1k/test/queries.csv')\n",
    "test_queries\n"
   ]
  },
  {
   "cell_type": "markdown",
   "id": "dccb4606",
   "metadata": {},
   "source": [
    "### Generating documents' scores"
   ]
  },
  {
   "cell_type": "code",
   "execution_count": 10,
   "id": "711e462e",
   "metadata": {
    "scrolled": true
   },
   "outputs": [
    {
     "name": "stdout",
     "output_type": "stream",
     "text": [
      "ScoredDoc(query_id='158491', doc_id='1880296', score=17.35782)\n",
      "ScoredDoc(query_id='158491', doc_id='2261272', score=17.199305)\n",
      "ScoredDoc(query_id='158491', doc_id='607552', score=17.118353)\n",
      "ScoredDoc(query_id='158491', doc_id='1957435', score=16.929768)\n",
      "ScoredDoc(query_id='158491', doc_id='625257', score=16.877832)\n",
      "ScoredDoc(query_id='158491', doc_id='635537', score=16.80612)\n",
      "ScoredDoc(query_id='158491', doc_id='1774491', score=16.570059)\n",
      "ScoredDoc(query_id='158491', doc_id='663828', score=16.55547)\n",
      "ScoredDoc(query_id='158491', doc_id='158491', score=16.063732)\n",
      "ScoredDoc(query_id='158491', doc_id='1956922', score=15.829921)\n"
     ]
    }
   ],
   "source": [
    "def make_query(text):\n",
    "    return {\n",
    "        'bool': {\n",
    "            'must': {\n",
    "                'match': {\n",
    "                    'text': text\n",
    "                }\n",
    "            }\n",
    "        }\n",
    "    }\n",
    "\n",
    "def generate_run(test_queries, save_to_file=False, filename=None):\n",
    "    if save_to_file:\n",
    "        f = open(filename, 'w')\n",
    "    \n",
    "    run = []\n",
    "    for i, row in test_queries.iterrows():\n",
    "        for res in search_results(row['id_left'], make_query(row['text_left'])):\n",
    "            run.append(ir_measures.ScoredDoc(res[0], res[1], res[2]))\n",
    "            if save_to_file:\n",
    "                f.write(f'{res[0]} Q0 {res[1]} {res[3]} {res[2]} BM25\\n')\n",
    "    \n",
    "    if save_to_file:\n",
    "        f.close()\n",
    "\n",
    "    return run\n",
    "\n",
    "def print_scores(run, total=-1):\n",
    "    if total > len(run) or total==-1:\n",
    "        total = len(run)\n",
    "    for i in range(total):\n",
    "        print(run[i])\n",
    "\n",
    "run = generate_run(test_queries, True, 'search_without_stem.res')\n",
    "print_scores(run, 10)\n"
   ]
  },
  {
   "cell_type": "code",
   "execution_count": 11,
   "id": "ae5f709d",
   "metadata": {},
   "outputs": [
    {
     "name": "stdout",
     "output_type": "stream",
     "text": [
      "Query execution time (total): 0.5423238277435303 s\n"
     ]
    }
   ],
   "source": [
    "start = time()\n",
    "generate_run(test_queries)\n",
    "stop = time()\n",
    "\n",
    "print(f'Query execution time (total): {stop-start} s')"
   ]
  },
  {
   "cell_type": "markdown",
   "id": "43ae5e32",
   "metadata": {},
   "source": [
    "### Evaluation of BM25 results"
   ]
  },
  {
   "cell_type": "code",
   "execution_count": 12,
   "id": "c40d42b3",
   "metadata": {},
   "outputs": [
    {
     "data": {
      "text/plain": [
       "{P@20: 0.09499999999999999, AP: 0.11196168401599797, P@5: 0.18399999999999994}"
      ]
     },
     "execution_count": 12,
     "metadata": {},
     "output_type": "execute_result"
    }
   ],
   "source": [
    "# BM25 results\n",
    "run = ir_measures.read_trec_run('wikIR1k/test/BM25.res')\n",
    "qrels = ir_measures.read_trec_qrels('wikIR1k/test/qrels')\n",
    "\n",
    "ir_measures.calc_aggregate([P@5, P@20, AP], qrels, run)\n"
   ]
  },
  {
   "cell_type": "markdown",
   "id": "a9de1381",
   "metadata": {},
   "source": [
    "### Evaluation"
   ]
  },
  {
   "cell_type": "code",
   "execution_count": 13,
   "id": "a88552a1",
   "metadata": {},
   "outputs": [
    {
     "data": {
      "text/plain": [
       "{P@20: 0.14750000000000005, AP: 0.14794540941671017, P@5: 0.3059999999999997}"
      ]
     },
     "execution_count": 13,
     "metadata": {},
     "output_type": "execute_result"
    }
   ],
   "source": [
    "# Our results\n",
    "run = ir_measures.read_trec_run('search_without_stem.res')\n",
    "\n",
    "qrels = ir_measures.read_trec_qrels('wikIR1k/test/qrels')\n",
    "\n",
    "ir_measures.calc_aggregate([P@5, P@20, AP], qrels, run)\n"
   ]
  },
  {
   "cell_type": "markdown",
   "id": "6eed7585",
   "metadata": {},
   "source": [
    "# Case 2: With Stemming"
   ]
  },
  {
   "cell_type": "code",
   "execution_count": 14,
   "id": "d88a4811",
   "metadata": {},
   "outputs": [
    {
     "data": {
      "text/plain": [
       "ObjectApiResponse({'acknowledged': True, 'shards_acknowledged': True, 'index': 'wiki'})"
      ]
     },
     "execution_count": 14,
     "metadata": {},
     "output_type": "execute_result"
    }
   ],
   "source": [
    "mappings = {\n",
    "    'properties': {\n",
    "        'text': {\n",
    "            'type': 'text',\n",
    "            'analyzer': 'porter_stemmer'\n",
    "        }\n",
    "    }\n",
    "}\n",
    "\n",
    "settings = {\n",
    "    'analysis' : {\n",
    "        'analyzer' : {\n",
    "            'porter_stemmer' : {\n",
    "                'tokenizer' : 'whitespace',\n",
    "                'filter' : ['porter_stem']\n",
    "            }\n",
    "        },\n",
    "        'filter' : {\n",
    "            'porter_stem' : {\n",
    "                'type' : 'porter_stem',\n",
    "                'language' : 'English'\n",
    "            }\n",
    "        }\n",
    "    }\n",
    "}\n",
    "\n",
    "if es.indices.exists(index=index_name):\n",
    "    es.indices.delete(index=index_name)\n",
    "es.indices.create(index=index_name, settings=settings, mappings=mappings)\n"
   ]
  },
  {
   "cell_type": "code",
   "execution_count": 15,
   "id": "6e5344e3",
   "metadata": {},
   "outputs": [
    {
     "name": "stderr",
     "output_type": "stream",
     "text": [
      "/tmp/ipykernel_11417/2575333439.py:6: DeprecationWarning: The 'body' parameter is deprecated and will be removed in a future version. Instead use individual parameters.\n",
      "  tokens = es.indices.analyze(index=index_name, body=body)['tokens']\n"
     ]
    },
    {
     "data": {
      "text/plain": [
       "['I', 'am', 'us', 'elast', 'search']"
      ]
     },
     "execution_count": 15,
     "metadata": {},
     "output_type": "execute_result"
    }
   ],
   "source": [
    "text = 'I am using elastic search'\n",
    "analyzer = {\n",
    "    'analyzer': 'porter_stemmer'\n",
    "}\n",
    "\n",
    "check_analyzer(analyzer, text)\n"
   ]
  },
  {
   "cell_type": "code",
   "execution_count": 16,
   "id": "24bcdf19",
   "metadata": {},
   "outputs": [
    {
     "name": "stderr",
     "output_type": "stream",
     "text": [
      "100%|████████████████████████████████| 369721/369721 [00:35<00:00, 10513.27it/s]\n"
     ]
    },
    {
     "name": "stdout",
     "output_type": "stream",
     "text": [
      "Indexing time: 35.28420877456665\n"
     ]
    },
    {
     "data": {
      "text/plain": [
       "ListApiResponse([{'epoch': '1676905317', 'timestamp': '15:01:57', 'count': '369721'}])"
      ]
     },
     "execution_count": 16,
     "metadata": {},
     "output_type": "execute_result"
    }
   ],
   "source": [
    "start = time()\n",
    "for ok, result in parallel_bulk(es, es_action_generator(df), queue_size=4, thread_count=4, chunk_size=1000):\n",
    "    if not ok:\n",
    "        print(result)\n",
    "stop = time()\n",
    "\n",
    "print('Indexing time:', stop-start)\n",
    "        \n",
    "es.indices.refresh(index=index_name)\n",
    "es.cat.count(index=index_name, format='json')\n"
   ]
  },
  {
   "cell_type": "code",
   "execution_count": 17,
   "id": "122df204",
   "metadata": {},
   "outputs": [
    {
     "name": "stdout",
     "output_type": "stream",
     "text": [
      "ScoredDoc(query_id='158491', doc_id='1880296', score=17.132378)\n",
      "ScoredDoc(query_id='158491', doc_id='2261272', score=16.981)\n",
      "ScoredDoc(query_id='158491', doc_id='607552', score=16.919212)\n",
      "ScoredDoc(query_id='158491', doc_id='625257', score=16.701923)\n",
      "ScoredDoc(query_id='158491', doc_id='1957435', score=16.695692)\n",
      "ScoredDoc(query_id='158491', doc_id='635537', score=16.567877)\n",
      "ScoredDoc(query_id='158491', doc_id='663828', score=16.392046)\n",
      "ScoredDoc(query_id='158491', doc_id='1774491', score=16.352182)\n",
      "ScoredDoc(query_id='158491', doc_id='158491', score=16.30711)\n",
      "ScoredDoc(query_id='158491', doc_id='1956922', score=15.618095)\n"
     ]
    }
   ],
   "source": [
    "run = generate_run(test_queries=test_queries, save_to_file=True, filename='search_with_stem.res')\n",
    "print_scores(run, 10)\n"
   ]
  },
  {
   "cell_type": "code",
   "execution_count": 18,
   "id": "6909eec5",
   "metadata": {},
   "outputs": [
    {
     "data": {
      "text/plain": [
       "{P@20: 0.14400000000000002, AP: 0.1464517410121761, P@5: 0.3119999999999997}"
      ]
     },
     "execution_count": 18,
     "metadata": {},
     "output_type": "execute_result"
    }
   ],
   "source": [
    "run = ir_measures.read_trec_run('search_with_stem.res')\n",
    "qrels = ir_measures.read_trec_qrels('wikIR1k/test/qrels')\n",
    "\n",
    "ir_measures.calc_aggregate([P@5, P@20, AP], qrels, run)\n"
   ]
  },
  {
   "cell_type": "markdown",
   "id": "bc05862e",
   "metadata": {},
   "source": [
    "# Case 3: Lemmatized Collection\n",
    "\n",
    "### WikiIR documents (lemmatization)"
   ]
  },
  {
   "cell_type": "code",
   "execution_count": 19,
   "id": "25d04c9d",
   "metadata": {},
   "outputs": [
    {
     "data": {
      "text/html": [
       "<div>\n",
       "<style scoped>\n",
       "    .dataframe tbody tr th:only-of-type {\n",
       "        vertical-align: middle;\n",
       "    }\n",
       "\n",
       "    .dataframe tbody tr th {\n",
       "        vertical-align: top;\n",
       "    }\n",
       "\n",
       "    .dataframe thead th {\n",
       "        text-align: right;\n",
       "    }\n",
       "</style>\n",
       "<table border=\"1\" class=\"dataframe\">\n",
       "  <thead>\n",
       "    <tr style=\"text-align: right;\">\n",
       "      <th></th>\n",
       "      <th>id_right</th>\n",
       "      <th>text_right</th>\n",
       "    </tr>\n",
       "  </thead>\n",
       "  <tbody>\n",
       "    <tr>\n",
       "      <th>0</th>\n",
       "      <td>1781133</td>\n",
       "      <td>it be use in landing craft during world war i...</td>\n",
       "    </tr>\n",
       "    <tr>\n",
       "      <th>1</th>\n",
       "      <td>2426736</td>\n",
       "      <td>after reject an offer from cambridge universi...</td>\n",
       "    </tr>\n",
       "    <tr>\n",
       "      <th>2</th>\n",
       "      <td>2224122</td>\n",
       "      <td>mat zan coach kuala lumpur fa in 1999 and win...</td>\n",
       "    </tr>\n",
       "    <tr>\n",
       "      <th>3</th>\n",
       "      <td>219642</td>\n",
       "      <td>a barcode be a machine readable optical label...</td>\n",
       "    </tr>\n",
       "    <tr>\n",
       "      <th>4</th>\n",
       "      <td>1728654</td>\n",
       "      <td>since the subordination of the monarchy under...</td>\n",
       "    </tr>\n",
       "    <tr>\n",
       "      <th>...</th>\n",
       "      <td>...</td>\n",
       "      <td>...</td>\n",
       "    </tr>\n",
       "    <tr>\n",
       "      <th>369716</th>\n",
       "      <td>59396</td>\n",
       "      <td>the population be 416 at the 2010 census the ...</td>\n",
       "    </tr>\n",
       "    <tr>\n",
       "      <th>369717</th>\n",
       "      <td>1950034</td>\n",
       "      <td>the surface of the river be freeze from novem...</td>\n",
       "    </tr>\n",
       "    <tr>\n",
       "      <th>369718</th>\n",
       "      <td>1984468</td>\n",
       "      <td>the first anti thrombin aptamer tba be genera...</td>\n",
       "    </tr>\n",
       "    <tr>\n",
       "      <th>369719</th>\n",
       "      <td>33966</td>\n",
       "      <td>state of oklahoma as of the 2010 census the p...</td>\n",
       "    </tr>\n",
       "    <tr>\n",
       "      <th>369720</th>\n",
       "      <td>1230943</td>\n",
       "      <td>geetha jeevan bear 6 may 1970 be the current ...</td>\n",
       "    </tr>\n",
       "  </tbody>\n",
       "</table>\n",
       "<p>369721 rows × 2 columns</p>\n",
       "</div>"
      ],
      "text/plain": [
       "        id_right                                         text_right\n",
       "0        1781133   it be use in landing craft during world war i...\n",
       "1        2426736   after reject an offer from cambridge universi...\n",
       "2        2224122   mat zan coach kuala lumpur fa in 1999 and win...\n",
       "3         219642   a barcode be a machine readable optical label...\n",
       "4        1728654   since the subordination of the monarchy under...\n",
       "...          ...                                                ...\n",
       "369716     59396   the population be 416 at the 2010 census the ...\n",
       "369717   1950034   the surface of the river be freeze from novem...\n",
       "369718   1984468   the first anti thrombin aptamer tba be genera...\n",
       "369719     33966   state of oklahoma as of the 2010 census the p...\n",
       "369720   1230943   geetha jeevan bear 6 may 1970 be the current ...\n",
       "\n",
       "[369721 rows x 2 columns]"
      ]
     },
     "execution_count": 19,
     "metadata": {},
     "output_type": "execute_result"
    }
   ],
   "source": [
    "#################### for the first run ###########################\n",
    "# takes some time (~2 hours)\n",
    "\n",
    "# docs_list = []\n",
    "# nlp = spacy.load('en_core_web_sm')\n",
    "\n",
    "# for i, row in tqdm(df.iterrows(), total=df.shape[0]):\n",
    "#     nlp_doc = nlp(row['text_right'])\n",
    "#     new_doc = ''\n",
    "#     for token in nlp_doc:\n",
    "#         new_doc = new_doc + ' ' + token.lemma_\n",
    "#     docs_list.append(new_doc)\n",
    "\n",
    "# df_lemmatized = pd.DataFrame({'id_right': df['id_right'].values, 'text_right': docs_list})\n",
    "# df_lemmatized.to_csv('docs_lemmatized.csv', index=None)\n",
    "\n",
    "#################### Later: Reading from files ###########################\n",
    "\n",
    "df_lemmatized = pd.read_csv('docs_lemmatized.csv')\n",
    "df_lemmatized\n"
   ]
  },
  {
   "cell_type": "markdown",
   "id": "b53b1f4a",
   "metadata": {},
   "source": [
    "### Queries (lemmatization)"
   ]
  },
  {
   "cell_type": "code",
   "execution_count": 20,
   "id": "741abd69",
   "metadata": {},
   "outputs": [
    {
     "name": "stderr",
     "output_type": "stream",
     "text": [
      "100%|████████████████████████████████████████| 100/100 [00:00<00:00, 253.33it/s]\n"
     ]
    },
    {
     "data": {
      "text/html": [
       "<div>\n",
       "<style scoped>\n",
       "    .dataframe tbody tr th:only-of-type {\n",
       "        vertical-align: middle;\n",
       "    }\n",
       "\n",
       "    .dataframe tbody tr th {\n",
       "        vertical-align: top;\n",
       "    }\n",
       "\n",
       "    .dataframe thead th {\n",
       "        text-align: right;\n",
       "    }\n",
       "</style>\n",
       "<table border=\"1\" class=\"dataframe\">\n",
       "  <thead>\n",
       "    <tr style=\"text-align: right;\">\n",
       "      <th></th>\n",
       "      <th>id_left</th>\n",
       "      <th>text_left</th>\n",
       "    </tr>\n",
       "  </thead>\n",
       "  <tbody>\n",
       "    <tr>\n",
       "      <th>0</th>\n",
       "      <td>158491</td>\n",
       "      <td>southern methodist university</td>\n",
       "    </tr>\n",
       "    <tr>\n",
       "      <th>1</th>\n",
       "      <td>5728</td>\n",
       "      <td>halakha</td>\n",
       "    </tr>\n",
       "    <tr>\n",
       "      <th>2</th>\n",
       "      <td>13554</td>\n",
       "      <td>chief justice of the united states</td>\n",
       "    </tr>\n",
       "    <tr>\n",
       "      <th>3</th>\n",
       "      <td>32674</td>\n",
       "      <td>patsy cline</td>\n",
       "    </tr>\n",
       "    <tr>\n",
       "      <th>4</th>\n",
       "      <td>406391</td>\n",
       "      <td>dierk bentley</td>\n",
       "    </tr>\n",
       "    <tr>\n",
       "      <th>...</th>\n",
       "      <td>...</td>\n",
       "      <td>...</td>\n",
       "    </tr>\n",
       "    <tr>\n",
       "      <th>95</th>\n",
       "      <td>679227</td>\n",
       "      <td>hiv aid</td>\n",
       "    </tr>\n",
       "    <tr>\n",
       "      <th>96</th>\n",
       "      <td>2136797</td>\n",
       "      <td>maren morris</td>\n",
       "    </tr>\n",
       "    <tr>\n",
       "      <th>97</th>\n",
       "      <td>5622</td>\n",
       "      <td>homer</td>\n",
       "    </tr>\n",
       "    <tr>\n",
       "      <th>98</th>\n",
       "      <td>1313598</td>\n",
       "      <td>south pole</td>\n",
       "    </tr>\n",
       "    <tr>\n",
       "      <th>99</th>\n",
       "      <td>712704</td>\n",
       "      <td>west indie</td>\n",
       "    </tr>\n",
       "  </tbody>\n",
       "</table>\n",
       "<p>100 rows × 2 columns</p>\n",
       "</div>"
      ],
      "text/plain": [
       "    id_left                            text_left\n",
       "0    158491        southern methodist university\n",
       "1      5728                              halakha\n",
       "2     13554   chief justice of the united states\n",
       "3     32674                          patsy cline\n",
       "4    406391                        dierk bentley\n",
       "..      ...                                  ...\n",
       "95   679227                              hiv aid\n",
       "96  2136797                         maren morris\n",
       "97     5622                                homer\n",
       "98  1313598                           south pole\n",
       "99   712704                           west indie\n",
       "\n",
       "[100 rows x 2 columns]"
      ]
     },
     "execution_count": 20,
     "metadata": {},
     "output_type": "execute_result"
    }
   ],
   "source": [
    "queries_list = []\n",
    "nlp = spacy.load('en_core_web_sm')\n",
    "\n",
    "for i, row in tqdm(test_queries.iterrows(), total=test_queries.shape[0]):\n",
    "    nlp_query = nlp(row['text_left'])\n",
    "    new_query = ''\n",
    "    for token in nlp_query:\n",
    "        new_query = new_query + ' ' + token.lemma_\n",
    "    queries_list.append(new_query)\n",
    "\n",
    "test_queries_lemmatized = pd.DataFrame({'id_left': test_queries['id_left'].values, 'text_left': queries_list})\n",
    "# test_queries_lemmatized.to_csv('queries_lemmatized.csv', index=None)\n",
    "\n",
    "test_queries_lemmatized"
   ]
  },
  {
   "cell_type": "code",
   "execution_count": 21,
   "id": "467acf3d",
   "metadata": {},
   "outputs": [
    {
     "data": {
      "text/plain": [
       "ObjectApiResponse({'acknowledged': True, 'shards_acknowledged': True, 'index': 'wiki'})"
      ]
     },
     "execution_count": 21,
     "metadata": {},
     "output_type": "execute_result"
    }
   ],
   "source": [
    "mappings = {\n",
    "    'properties': {\n",
    "        'text': {\n",
    "            'type': 'text',\n",
    "            'analyzer': 'white'\n",
    "        }\n",
    "    }\n",
    "}\n",
    "\n",
    "settings = {\n",
    "    'analysis' : {\n",
    "        'analyzer' : {\n",
    "            'white' : {\n",
    "                'tokenizer' : 'whitespace'\n",
    "            }\n",
    "        }\n",
    "    }\n",
    "}\n",
    "\n",
    "if es.indices.exists(index=index_name):\n",
    "    es.indices.delete(index=index_name)\n",
    "es.indices.create(index=index_name, settings=settings, mappings=mappings)\n"
   ]
  },
  {
   "cell_type": "code",
   "execution_count": 22,
   "id": "52f75310",
   "metadata": {},
   "outputs": [
    {
     "name": "stderr",
     "output_type": "stream",
     "text": [
      "100%|████████████████████████████████| 369721/369721 [00:33<00:00, 11151.17it/s]\n"
     ]
    },
    {
     "name": "stdout",
     "output_type": "stream",
     "text": [
      "Indexing time: 33.26123762130737\n"
     ]
    },
    {
     "data": {
      "text/plain": [
       "ListApiResponse([{'epoch': '1676905356', 'timestamp': '15:02:36', 'count': '369721'}])"
      ]
     },
     "execution_count": 22,
     "metadata": {},
     "output_type": "execute_result"
    }
   ],
   "source": [
    "start = time()\n",
    "for ok, result in parallel_bulk(es, es_action_generator(df_lemmatized), queue_size=4, thread_count=4, chunk_size=1000):\n",
    "    if not ok:\n",
    "        print(result)\n",
    "stop = time()\n",
    "\n",
    "print('Indexing time:', stop-start)\n",
    "        \n",
    "es.indices.refresh(index=index_name)\n",
    "es.cat.count(index=index_name, format='json')\n"
   ]
  },
  {
   "cell_type": "code",
   "execution_count": 23,
   "id": "eed997e6",
   "metadata": {},
   "outputs": [
    {
     "name": "stdout",
     "output_type": "stream",
     "text": [
      "ScoredDoc(query_id='158491', doc_id='1880296', score=101.613235)\n",
      "ScoredDoc(query_id='158491', doc_id='2261272', score=101.45615)\n",
      "ScoredDoc(query_id='158491', doc_id='607552', score=90.771095)\n",
      "ScoredDoc(query_id='158491', doc_id='1957435', score=90.58272)\n",
      "ScoredDoc(query_id='158491', doc_id='1180246', score=89.26848)\n",
      "ScoredDoc(query_id='158491', doc_id='685181', score=89.11139)\n",
      "ScoredDoc(query_id='158491', doc_id='1093529', score=88.879684)\n",
      "ScoredDoc(query_id='158491', doc_id='1158969', score=88.879684)\n",
      "ScoredDoc(query_id='158491', doc_id='1397771', score=88.503624)\n",
      "ScoredDoc(query_id='158491', doc_id='637819', score=88.503624)\n"
     ]
    }
   ],
   "source": [
    "def make_query(text):\n",
    "    query = {\n",
    "        \"bool\": {\n",
    "            'must': {\n",
    "                'match': {\n",
    "                    'text': text\n",
    "                }                    \n",
    "            },\n",
    "            'should': {\n",
    "                \"match_phrase\": {\n",
    "                    \"text\": {\n",
    "                        \"query\": text,\n",
    "                        \"boost\": 5\n",
    "                    }\n",
    "                }\n",
    "            }\n",
    "        }\n",
    "    }\n",
    "    return query\n",
    "\n",
    "def generate_run(test_queries, save_to_file=False, filename=None):\n",
    "    if save_to_file:\n",
    "        f = open(filename, 'w')\n",
    "    \n",
    "    run = []\n",
    "    for i, row in test_queries.iterrows():\n",
    "        for res in search_results(row['id_left'], make_query(row['text_left'])):\n",
    "            run.append(ir_measures.ScoredDoc(res[0], res[1], res[2]))\n",
    "            if save_to_file:\n",
    "                f.write(f'{res[0]} Q0 {res[1]} {res[3]} {res[2]} BM25\\n')\n",
    "    \n",
    "    if save_to_file:\n",
    "        f.close()\n",
    "\n",
    "    return run\n",
    "\n",
    "\n",
    "run = generate_run(test_queries=test_queries_lemmatized, save_to_file=True, filename='search_with_lemma.res')\n",
    "print_scores(run, 10)\n"
   ]
  },
  {
   "cell_type": "code",
   "execution_count": 24,
   "id": "7ccccfae",
   "metadata": {},
   "outputs": [
    {
     "data": {
      "text/plain": [
       "{P@20: 0.13249999999999998, AP: 0.12182953321922929, P@5: 0.24399999999999986}"
      ]
     },
     "execution_count": 24,
     "metadata": {},
     "output_type": "execute_result"
    }
   ],
   "source": [
    "run = ir_measures.read_trec_run('search_with_lemma.res')\n",
    "qrels = ir_measures.read_trec_qrels('wikIR1k/test/qrels')\n",
    "\n",
    "ir_measures.calc_aggregate([P@5, P@20, AP], qrels, run)\n"
   ]
  },
  {
   "cell_type": "code",
   "execution_count": null,
   "id": "c91c4826",
   "metadata": {},
   "outputs": [],
   "source": []
  },
  {
   "cell_type": "code",
   "execution_count": null,
   "id": "855b82fe",
   "metadata": {},
   "outputs": [],
   "source": []
  }
 ],
 "metadata": {
  "kernelspec": {
   "display_name": ".venv",
   "language": "python",
   "name": ".venv"
  },
  "language_info": {
   "codemirror_mode": {
    "name": "ipython",
    "version": 3
   },
   "file_extension": ".py",
   "mimetype": "text/x-python",
   "name": "python",
   "nbconvert_exporter": "python",
   "pygments_lexer": "ipython3",
   "version": "3.10.6"
  }
 },
 "nbformat": 4,
 "nbformat_minor": 5
}
